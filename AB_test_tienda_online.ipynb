{
 "cells": [
  {
   "cell_type": "markdown",
   "metadata": {},
   "source": [
    "# Proyecto Sprint 9"
   ]
  },
  {
   "cell_type": "markdown",
   "metadata": {},
   "source": [
    "## Descrpición del proyecto\n",
    "\n",
    "**Contexto**\n",
    "\n",
    "Eres analista en una gran tienda en línea. Junto con el departamento de marketing has recopilado una lista de hipótesis que pueden ayudar a aumentar los ingresos. \n",
    "\n",
    "Tienes que priorizar estas hipótesis, lanzar un test A/B y analizar los resultados."
   ]
  },
  {
   "cell_type": "markdown",
   "metadata": {},
   "source": [
    "## Análisis exploratorio de datos"
   ]
  },
  {
   "cell_type": "code",
   "execution_count": 1,
   "metadata": {},
   "outputs": [],
   "source": [
    "# Importación de librerías\n",
    "\n",
    "import pandas as pd\n",
    "import numpy as np\n",
    "import matplotlib.pyplot as plt\n",
    "import matplotlib.dates as mdates\n",
    "import scipy.stats as stats"
   ]
  },
  {
   "cell_type": "markdown",
   "metadata": {},
   "source": [
    "### Preprocesamiento de los datos"
   ]
  },
  {
   "cell_type": "code",
   "execution_count": 2,
   "metadata": {},
   "outputs": [],
   "source": [
    "# Descarga de los datasets\n",
    "\n",
    "hypotheses = pd.read_csv(\"https://practicum-content.s3.us-west-1.amazonaws.com/datasets/hypotheses_us.csv\", sep = \";\" )\n",
    "\n",
    "orders = pd.read_csv(\"https://practicum-content.s3.us-west-1.amazonaws.com/datasets/orders_us.csv\")\n",
    "\n",
    "visits = pd.read_csv(\"https://practicum-content.s3.us-west-1.amazonaws.com/datasets/visits_us.csv\")"
   ]
  },
  {
   "cell_type": "markdown",
   "metadata": {},
   "source": [
    "### hypotheses"
   ]
  },
  {
   "cell_type": "code",
   "execution_count": 3,
   "metadata": {},
   "outputs": [
    {
     "data": {
      "text/html": [
       "<div>\n",
       "<style scoped>\n",
       "    .dataframe tbody tr th:only-of-type {\n",
       "        vertical-align: middle;\n",
       "    }\n",
       "\n",
       "    .dataframe tbody tr th {\n",
       "        vertical-align: top;\n",
       "    }\n",
       "\n",
       "    .dataframe thead th {\n",
       "        text-align: right;\n",
       "    }\n",
       "</style>\n",
       "<table border=\"1\" class=\"dataframe\">\n",
       "  <thead>\n",
       "    <tr style=\"text-align: right;\">\n",
       "      <th></th>\n",
       "      <th>hypothesis</th>\n",
       "      <th>reach</th>\n",
       "      <th>impact</th>\n",
       "      <th>confidence</th>\n",
       "      <th>effort</th>\n",
       "    </tr>\n",
       "  </thead>\n",
       "  <tbody>\n",
       "    <tr>\n",
       "      <th>0</th>\n",
       "      <td>Add two new channels for attracting traffic. T...</td>\n",
       "      <td>3</td>\n",
       "      <td>10</td>\n",
       "      <td>8</td>\n",
       "      <td>6</td>\n",
       "    </tr>\n",
       "    <tr>\n",
       "      <th>1</th>\n",
       "      <td>Launch your own delivery service. This will sh...</td>\n",
       "      <td>2</td>\n",
       "      <td>5</td>\n",
       "      <td>4</td>\n",
       "      <td>10</td>\n",
       "    </tr>\n",
       "    <tr>\n",
       "      <th>2</th>\n",
       "      <td>Add product recommendation blocks to the store...</td>\n",
       "      <td>8</td>\n",
       "      <td>3</td>\n",
       "      <td>7</td>\n",
       "      <td>3</td>\n",
       "    </tr>\n",
       "    <tr>\n",
       "      <th>3</th>\n",
       "      <td>Change the category structure. This will incre...</td>\n",
       "      <td>8</td>\n",
       "      <td>3</td>\n",
       "      <td>3</td>\n",
       "      <td>8</td>\n",
       "    </tr>\n",
       "    <tr>\n",
       "      <th>4</th>\n",
       "      <td>Change the background color on the main page. ...</td>\n",
       "      <td>3</td>\n",
       "      <td>1</td>\n",
       "      <td>1</td>\n",
       "      <td>1</td>\n",
       "    </tr>\n",
       "    <tr>\n",
       "      <th>5</th>\n",
       "      <td>Add a customer review page. This will increase...</td>\n",
       "      <td>3</td>\n",
       "      <td>2</td>\n",
       "      <td>2</td>\n",
       "      <td>3</td>\n",
       "    </tr>\n",
       "    <tr>\n",
       "      <th>6</th>\n",
       "      <td>Show banners with current offers and sales on ...</td>\n",
       "      <td>5</td>\n",
       "      <td>3</td>\n",
       "      <td>8</td>\n",
       "      <td>3</td>\n",
       "    </tr>\n",
       "    <tr>\n",
       "      <th>7</th>\n",
       "      <td>Add a subscription form to all the main pages....</td>\n",
       "      <td>10</td>\n",
       "      <td>7</td>\n",
       "      <td>8</td>\n",
       "      <td>5</td>\n",
       "    </tr>\n",
       "    <tr>\n",
       "      <th>8</th>\n",
       "      <td>Launch a promotion that gives users discounts ...</td>\n",
       "      <td>1</td>\n",
       "      <td>9</td>\n",
       "      <td>9</td>\n",
       "      <td>5</td>\n",
       "    </tr>\n",
       "  </tbody>\n",
       "</table>\n",
       "</div>"
      ],
      "text/plain": [
       "                                          hypothesis  reach  impact  \\\n",
       "0  Add two new channels for attracting traffic. T...      3      10   \n",
       "1  Launch your own delivery service. This will sh...      2       5   \n",
       "2  Add product recommendation blocks to the store...      8       3   \n",
       "3  Change the category structure. This will incre...      8       3   \n",
       "4  Change the background color on the main page. ...      3       1   \n",
       "5  Add a customer review page. This will increase...      3       2   \n",
       "6  Show banners with current offers and sales on ...      5       3   \n",
       "7  Add a subscription form to all the main pages....     10       7   \n",
       "8  Launch a promotion that gives users discounts ...      1       9   \n",
       "\n",
       "   confidence  effort  \n",
       "0           8       6  \n",
       "1           4      10  \n",
       "2           7       3  \n",
       "3           3       8  \n",
       "4           1       1  \n",
       "5           2       3  \n",
       "6           8       3  \n",
       "7           8       5  \n",
       "8           9       5  "
      ]
     },
     "execution_count": 3,
     "metadata": {},
     "output_type": "execute_result"
    }
   ],
   "source": [
    "# Revisión de dataset hypotheses\n",
    "\n",
    "hypotheses.columns = hypotheses.columns.str.lower()\n",
    "hypotheses"
   ]
  },
  {
   "cell_type": "markdown",
   "metadata": {},
   "source": [
    "Solo se tenían columnas con inicial mayúscula, se corrigió a minpuscula. La información restante se encuentra correcta"
   ]
  },
  {
   "cell_type": "markdown",
   "metadata": {},
   "source": [
    "### orders"
   ]
  },
  {
   "cell_type": "code",
   "execution_count": 4,
   "metadata": {},
   "outputs": [
    {
     "data": {
      "text/html": [
       "<div>\n",
       "<style scoped>\n",
       "    .dataframe tbody tr th:only-of-type {\n",
       "        vertical-align: middle;\n",
       "    }\n",
       "\n",
       "    .dataframe tbody tr th {\n",
       "        vertical-align: top;\n",
       "    }\n",
       "\n",
       "    .dataframe thead th {\n",
       "        text-align: right;\n",
       "    }\n",
       "</style>\n",
       "<table border=\"1\" class=\"dataframe\">\n",
       "  <thead>\n",
       "    <tr style=\"text-align: right;\">\n",
       "      <th></th>\n",
       "      <th>transactionId</th>\n",
       "      <th>visitorId</th>\n",
       "      <th>date</th>\n",
       "      <th>revenue</th>\n",
       "      <th>group</th>\n",
       "    </tr>\n",
       "  </thead>\n",
       "  <tbody>\n",
       "    <tr>\n",
       "      <th>0</th>\n",
       "      <td>3667963787</td>\n",
       "      <td>3312258926</td>\n",
       "      <td>2019-08-15</td>\n",
       "      <td>30.4</td>\n",
       "      <td>B</td>\n",
       "    </tr>\n",
       "    <tr>\n",
       "      <th>1</th>\n",
       "      <td>2804400009</td>\n",
       "      <td>3642806036</td>\n",
       "      <td>2019-08-15</td>\n",
       "      <td>15.2</td>\n",
       "      <td>B</td>\n",
       "    </tr>\n",
       "    <tr>\n",
       "      <th>2</th>\n",
       "      <td>2961555356</td>\n",
       "      <td>4069496402</td>\n",
       "      <td>2019-08-15</td>\n",
       "      <td>10.2</td>\n",
       "      <td>A</td>\n",
       "    </tr>\n",
       "    <tr>\n",
       "      <th>3</th>\n",
       "      <td>3797467345</td>\n",
       "      <td>1196621759</td>\n",
       "      <td>2019-08-15</td>\n",
       "      <td>155.1</td>\n",
       "      <td>B</td>\n",
       "    </tr>\n",
       "    <tr>\n",
       "      <th>4</th>\n",
       "      <td>2282983706</td>\n",
       "      <td>2322279887</td>\n",
       "      <td>2019-08-15</td>\n",
       "      <td>40.5</td>\n",
       "      <td>B</td>\n",
       "    </tr>\n",
       "  </tbody>\n",
       "</table>\n",
       "</div>"
      ],
      "text/plain": [
       "   transactionId   visitorId        date  revenue group\n",
       "0     3667963787  3312258926  2019-08-15     30.4     B\n",
       "1     2804400009  3642806036  2019-08-15     15.2     B\n",
       "2     2961555356  4069496402  2019-08-15     10.2     A\n",
       "3     3797467345  1196621759  2019-08-15    155.1     B\n",
       "4     2282983706  2322279887  2019-08-15     40.5     B"
      ]
     },
     "metadata": {},
     "output_type": "display_data"
    },
    {
     "name": "stdout",
     "output_type": "stream",
     "text": [
      "\n",
      "Index(['transactionId', 'visitorId', 'date', 'revenue', 'group'], dtype='object')\n",
      "\n",
      "<class 'pandas.core.frame.DataFrame'>\n",
      "RangeIndex: 1197 entries, 0 to 1196\n",
      "Data columns (total 5 columns):\n",
      " #   Column         Non-Null Count  Dtype  \n",
      "---  ------         --------------  -----  \n",
      " 0   transactionId  1197 non-null   int64  \n",
      " 1   visitorId      1197 non-null   int64  \n",
      " 2   date           1197 non-null   object \n",
      " 3   revenue        1197 non-null   float64\n",
      " 4   group          1197 non-null   object \n",
      "dtypes: float64(1), int64(2), object(2)\n",
      "memory usage: 46.9+ KB\n",
      "None\n",
      "\n"
     ]
    },
    {
     "data": {
      "text/html": [
       "<div>\n",
       "<style scoped>\n",
       "    .dataframe tbody tr th:only-of-type {\n",
       "        vertical-align: middle;\n",
       "    }\n",
       "\n",
       "    .dataframe tbody tr th {\n",
       "        vertical-align: top;\n",
       "    }\n",
       "\n",
       "    .dataframe thead th {\n",
       "        text-align: right;\n",
       "    }\n",
       "</style>\n",
       "<table border=\"1\" class=\"dataframe\">\n",
       "  <thead>\n",
       "    <tr style=\"text-align: right;\">\n",
       "      <th></th>\n",
       "      <th>transactionId</th>\n",
       "      <th>visitorId</th>\n",
       "      <th>revenue</th>\n",
       "    </tr>\n",
       "  </thead>\n",
       "  <tbody>\n",
       "    <tr>\n",
       "      <th>count</th>\n",
       "      <td>1.197000e+03</td>\n",
       "      <td>1.197000e+03</td>\n",
       "      <td>1197.000000</td>\n",
       "    </tr>\n",
       "    <tr>\n",
       "      <th>mean</th>\n",
       "      <td>2.155621e+09</td>\n",
       "      <td>2.165960e+09</td>\n",
       "      <td>131.491646</td>\n",
       "    </tr>\n",
       "    <tr>\n",
       "      <th>std</th>\n",
       "      <td>1.229085e+09</td>\n",
       "      <td>1.236014e+09</td>\n",
       "      <td>603.004729</td>\n",
       "    </tr>\n",
       "    <tr>\n",
       "      <th>min</th>\n",
       "      <td>1.062393e+06</td>\n",
       "      <td>5.114589e+06</td>\n",
       "      <td>5.000000</td>\n",
       "    </tr>\n",
       "    <tr>\n",
       "      <th>25%</th>\n",
       "      <td>1.166776e+09</td>\n",
       "      <td>1.111826e+09</td>\n",
       "      <td>20.800000</td>\n",
       "    </tr>\n",
       "    <tr>\n",
       "      <th>50%</th>\n",
       "      <td>2.145194e+09</td>\n",
       "      <td>2.217985e+09</td>\n",
       "      <td>50.200000</td>\n",
       "    </tr>\n",
       "    <tr>\n",
       "      <th>75%</th>\n",
       "      <td>3.237740e+09</td>\n",
       "      <td>3.177606e+09</td>\n",
       "      <td>130.400000</td>\n",
       "    </tr>\n",
       "    <tr>\n",
       "      <th>max</th>\n",
       "      <td>4.293856e+09</td>\n",
       "      <td>4.283872e+09</td>\n",
       "      <td>19920.400000</td>\n",
       "    </tr>\n",
       "  </tbody>\n",
       "</table>\n",
       "</div>"
      ],
      "text/plain": [
       "       transactionId     visitorId       revenue\n",
       "count   1.197000e+03  1.197000e+03   1197.000000\n",
       "mean    2.155621e+09  2.165960e+09    131.491646\n",
       "std     1.229085e+09  1.236014e+09    603.004729\n",
       "min     1.062393e+06  5.114589e+06      5.000000\n",
       "25%     1.166776e+09  1.111826e+09     20.800000\n",
       "50%     2.145194e+09  2.217985e+09     50.200000\n",
       "75%     3.237740e+09  3.177606e+09    130.400000\n",
       "max     4.293856e+09  4.283872e+09  19920.400000"
      ]
     },
     "metadata": {},
     "output_type": "display_data"
    },
    {
     "name": "stdout",
     "output_type": "stream",
     "text": [
      "\n",
      "Filas duplicadas:  0\n"
     ]
    }
   ],
   "source": [
    "# Revisión de dataset orders\n",
    "\n",
    "display(orders.head())\n",
    "print()\n",
    "print(orders.columns)\n",
    "print()\n",
    "print(orders.info())\n",
    "print()\n",
    "display(orders.describe())\n",
    "print()\n",
    "print(\"Filas duplicadas: \",orders.duplicated().sum())"
   ]
  },
  {
   "cell_type": "code",
   "execution_count": 5,
   "metadata": {},
   "outputs": [],
   "source": [
    "# Definir el tipo de valores por columna desde su lectura.\n",
    "\n",
    "orders = pd.read_csv(\"https://practicum-content.s3.us-west-1.amazonaws.com/datasets/orders_us.csv\",\n",
    "                    dtype = {\"transactionId\":\"object\",\n",
    "                            \"visitorId\":\"object\"},\n",
    "                    parse_dates = [\"date\"])"
   ]
  },
  {
   "cell_type": "code",
   "execution_count": 6,
   "metadata": {},
   "outputs": [
    {
     "name": "stdout",
     "output_type": "stream",
     "text": [
      "<class 'pandas.core.frame.DataFrame'>\n",
      "RangeIndex: 1197 entries, 0 to 1196\n",
      "Data columns (total 5 columns):\n",
      " #   Column         Non-Null Count  Dtype         \n",
      "---  ------         --------------  -----         \n",
      " 0   transactionId  1197 non-null   object        \n",
      " 1   visitorId      1197 non-null   object        \n",
      " 2   date           1197 non-null   datetime64[ns]\n",
      " 3   revenue        1197 non-null   float64       \n",
      " 4   group          1197 non-null   object        \n",
      "dtypes: datetime64[ns](1), float64(1), object(3)\n",
      "memory usage: 46.9+ KB\n",
      "None\n"
     ]
    }
   ],
   "source": [
    "# Revisión de la info del dataset orders nuevamente\n",
    "\n",
    "print(orders.info())\n"
   ]
  },
  {
   "cell_type": "code",
   "execution_count": 7,
   "metadata": {
    "scrolled": true
   },
   "outputs": [],
   "source": [
    "# Renombre de las columnas, cambiando de CamelCase a snake_case\n",
    "\n",
    "orders = orders.rename(columns={\"transactionId\":\"transaction_id\",\"visitorId\":\"visitor_id\"})"
   ]
  },
  {
   "cell_type": "markdown",
   "metadata": {},
   "source": [
    "El dataset orders tenía los nombres en camelcase en lugar de snakecase, por lo que se corrigen.\n",
    "\n",
    "No se tienen filas duplicadas.\n",
    "\n",
    "En cuanto a los ingresos, se tiene un mínimo de 5 y un máximo de 19920, con un promedio de 131, y una desviación estandar de  603, por lo que a simple vista se puede deducir que hay valores atípicos."
   ]
  },
  {
   "cell_type": "markdown",
   "metadata": {},
   "source": [
    "### visits"
   ]
  },
  {
   "cell_type": "code",
   "execution_count": 8,
   "metadata": {},
   "outputs": [
    {
     "data": {
      "text/html": [
       "<div>\n",
       "<style scoped>\n",
       "    .dataframe tbody tr th:only-of-type {\n",
       "        vertical-align: middle;\n",
       "    }\n",
       "\n",
       "    .dataframe tbody tr th {\n",
       "        vertical-align: top;\n",
       "    }\n",
       "\n",
       "    .dataframe thead th {\n",
       "        text-align: right;\n",
       "    }\n",
       "</style>\n",
       "<table border=\"1\" class=\"dataframe\">\n",
       "  <thead>\n",
       "    <tr style=\"text-align: right;\">\n",
       "      <th></th>\n",
       "      <th>date</th>\n",
       "      <th>group</th>\n",
       "      <th>visits</th>\n",
       "    </tr>\n",
       "  </thead>\n",
       "  <tbody>\n",
       "    <tr>\n",
       "      <th>0</th>\n",
       "      <td>2019-08-01</td>\n",
       "      <td>A</td>\n",
       "      <td>719</td>\n",
       "    </tr>\n",
       "    <tr>\n",
       "      <th>1</th>\n",
       "      <td>2019-08-02</td>\n",
       "      <td>A</td>\n",
       "      <td>619</td>\n",
       "    </tr>\n",
       "    <tr>\n",
       "      <th>2</th>\n",
       "      <td>2019-08-03</td>\n",
       "      <td>A</td>\n",
       "      <td>507</td>\n",
       "    </tr>\n",
       "    <tr>\n",
       "      <th>3</th>\n",
       "      <td>2019-08-04</td>\n",
       "      <td>A</td>\n",
       "      <td>717</td>\n",
       "    </tr>\n",
       "    <tr>\n",
       "      <th>4</th>\n",
       "      <td>2019-08-05</td>\n",
       "      <td>A</td>\n",
       "      <td>756</td>\n",
       "    </tr>\n",
       "  </tbody>\n",
       "</table>\n",
       "</div>"
      ],
      "text/plain": [
       "         date group  visits\n",
       "0  2019-08-01     A     719\n",
       "1  2019-08-02     A     619\n",
       "2  2019-08-03     A     507\n",
       "3  2019-08-04     A     717\n",
       "4  2019-08-05     A     756"
      ]
     },
     "metadata": {},
     "output_type": "display_data"
    },
    {
     "name": "stdout",
     "output_type": "stream",
     "text": [
      "\n",
      "Index(['date', 'group', 'visits'], dtype='object')\n",
      "\n",
      "<class 'pandas.core.frame.DataFrame'>\n",
      "RangeIndex: 62 entries, 0 to 61\n",
      "Data columns (total 3 columns):\n",
      " #   Column  Non-Null Count  Dtype \n",
      "---  ------  --------------  ----- \n",
      " 0   date    62 non-null     object\n",
      " 1   group   62 non-null     object\n",
      " 2   visits  62 non-null     int64 \n",
      "dtypes: int64(1), object(2)\n",
      "memory usage: 1.6+ KB\n",
      "None\n",
      "\n"
     ]
    },
    {
     "data": {
      "text/html": [
       "<div>\n",
       "<style scoped>\n",
       "    .dataframe tbody tr th:only-of-type {\n",
       "        vertical-align: middle;\n",
       "    }\n",
       "\n",
       "    .dataframe tbody tr th {\n",
       "        vertical-align: top;\n",
       "    }\n",
       "\n",
       "    .dataframe thead th {\n",
       "        text-align: right;\n",
       "    }\n",
       "</style>\n",
       "<table border=\"1\" class=\"dataframe\">\n",
       "  <thead>\n",
       "    <tr style=\"text-align: right;\">\n",
       "      <th></th>\n",
       "      <th>visits</th>\n",
       "    </tr>\n",
       "  </thead>\n",
       "  <tbody>\n",
       "    <tr>\n",
       "      <th>count</th>\n",
       "      <td>62.000000</td>\n",
       "    </tr>\n",
       "    <tr>\n",
       "      <th>mean</th>\n",
       "      <td>607.290323</td>\n",
       "    </tr>\n",
       "    <tr>\n",
       "      <th>std</th>\n",
       "      <td>114.400560</td>\n",
       "    </tr>\n",
       "    <tr>\n",
       "      <th>min</th>\n",
       "      <td>361.000000</td>\n",
       "    </tr>\n",
       "    <tr>\n",
       "      <th>25%</th>\n",
       "      <td>534.000000</td>\n",
       "    </tr>\n",
       "    <tr>\n",
       "      <th>50%</th>\n",
       "      <td>624.500000</td>\n",
       "    </tr>\n",
       "    <tr>\n",
       "      <th>75%</th>\n",
       "      <td>710.500000</td>\n",
       "    </tr>\n",
       "    <tr>\n",
       "      <th>max</th>\n",
       "      <td>770.000000</td>\n",
       "    </tr>\n",
       "  </tbody>\n",
       "</table>\n",
       "</div>"
      ],
      "text/plain": [
       "           visits\n",
       "count   62.000000\n",
       "mean   607.290323\n",
       "std    114.400560\n",
       "min    361.000000\n",
       "25%    534.000000\n",
       "50%    624.500000\n",
       "75%    710.500000\n",
       "max    770.000000"
      ]
     },
     "metadata": {},
     "output_type": "display_data"
    },
    {
     "name": "stdout",
     "output_type": "stream",
     "text": [
      "\n",
      "Filas duplicadas:  0\n"
     ]
    }
   ],
   "source": [
    "# Revisión de dataset visits\n",
    "\n",
    "display(visits.head())\n",
    "print()\n",
    "print(visits.columns)\n",
    "print()\n",
    "print(visits.info())\n",
    "print()\n",
    "display(visits.describe())\n",
    "print()\n",
    "print(\"Filas duplicadas: \",visits.duplicated().sum())"
   ]
  },
  {
   "cell_type": "code",
   "execution_count": 9,
   "metadata": {},
   "outputs": [],
   "source": [
    "# Definir el tipo de valores por columna desde su lectura.\n",
    "\n",
    "visits = pd.read_csv(\"https://practicum-content.s3.us-west-1.amazonaws.com/datasets/visits_us.csv\",\n",
    "                    parse_dates = [\"date\"])"
   ]
  },
  {
   "cell_type": "code",
   "execution_count": 10,
   "metadata": {},
   "outputs": [
    {
     "name": "stdout",
     "output_type": "stream",
     "text": [
      "<class 'pandas.core.frame.DataFrame'>\n",
      "RangeIndex: 62 entries, 0 to 61\n",
      "Data columns (total 3 columns):\n",
      " #   Column  Non-Null Count  Dtype         \n",
      "---  ------  --------------  -----         \n",
      " 0   date    62 non-null     datetime64[ns]\n",
      " 1   group   62 non-null     object        \n",
      " 2   visits  62 non-null     int64         \n",
      "dtypes: datetime64[ns](1), int64(1), object(1)\n",
      "memory usage: 1.6+ KB\n",
      "None\n"
     ]
    }
   ],
   "source": [
    "# Revisión de la info del dataset orders nuevamente\n",
    "\n",
    "print(visits.info())"
   ]
  },
  {
   "cell_type": "markdown",
   "metadata": {},
   "source": [
    "No se tienen filas duplicadas.\n",
    "\n",
    "Como mínimo y máximo, se tienen 361 y 770 visitas respectivamene, con una desviación estandar de 114, y un promedio de 607, a simple vista no se ven valores atípicos. Habrá que hacer una revisión mas profunda para comprobarlo. "
   ]
  },
  {
   "cell_type": "markdown",
   "metadata": {},
   "source": [
    "### Visitantes/Usuarios por grupo"
   ]
  },
  {
   "cell_type": "code",
   "execution_count": 11,
   "metadata": {},
   "outputs": [
    {
     "data": {
      "text/html": [
       "<div>\n",
       "<style scoped>\n",
       "    .dataframe tbody tr th:only-of-type {\n",
       "        vertical-align: middle;\n",
       "    }\n",
       "\n",
       "    .dataframe tbody tr th {\n",
       "        vertical-align: top;\n",
       "    }\n",
       "\n",
       "    .dataframe thead th {\n",
       "        text-align: right;\n",
       "    }\n",
       "</style>\n",
       "<table border=\"1\" class=\"dataframe\">\n",
       "  <thead>\n",
       "    <tr style=\"text-align: right;\">\n",
       "      <th></th>\n",
       "      <th>transaction_id</th>\n",
       "      <th>visitor_id</th>\n",
       "      <th>date</th>\n",
       "      <th>revenue</th>\n",
       "      <th>group</th>\n",
       "    </tr>\n",
       "  </thead>\n",
       "  <tbody>\n",
       "    <tr>\n",
       "      <th>0</th>\n",
       "      <td>3667963787</td>\n",
       "      <td>3312258926</td>\n",
       "      <td>2019-08-15</td>\n",
       "      <td>30.4</td>\n",
       "      <td>B</td>\n",
       "    </tr>\n",
       "    <tr>\n",
       "      <th>1</th>\n",
       "      <td>2804400009</td>\n",
       "      <td>3642806036</td>\n",
       "      <td>2019-08-15</td>\n",
       "      <td>15.2</td>\n",
       "      <td>B</td>\n",
       "    </tr>\n",
       "    <tr>\n",
       "      <th>2</th>\n",
       "      <td>3797467345</td>\n",
       "      <td>1196621759</td>\n",
       "      <td>2019-08-15</td>\n",
       "      <td>155.1</td>\n",
       "      <td>B</td>\n",
       "    </tr>\n",
       "    <tr>\n",
       "      <th>3</th>\n",
       "      <td>2282983706</td>\n",
       "      <td>2322279887</td>\n",
       "      <td>2019-08-15</td>\n",
       "      <td>40.5</td>\n",
       "      <td>B</td>\n",
       "    </tr>\n",
       "    <tr>\n",
       "      <th>4</th>\n",
       "      <td>182168103</td>\n",
       "      <td>935554773</td>\n",
       "      <td>2019-08-15</td>\n",
       "      <td>35.0</td>\n",
       "      <td>B</td>\n",
       "    </tr>\n",
       "    <tr>\n",
       "      <th>...</th>\n",
       "      <td>...</td>\n",
       "      <td>...</td>\n",
       "      <td>...</td>\n",
       "      <td>...</td>\n",
       "      <td>...</td>\n",
       "    </tr>\n",
       "    <tr>\n",
       "      <th>1011</th>\n",
       "      <td>3592955527</td>\n",
       "      <td>608641596</td>\n",
       "      <td>2019-08-14</td>\n",
       "      <td>255.7</td>\n",
       "      <td>B</td>\n",
       "    </tr>\n",
       "    <tr>\n",
       "      <th>1012</th>\n",
       "      <td>2662137336</td>\n",
       "      <td>3733762160</td>\n",
       "      <td>2019-08-14</td>\n",
       "      <td>100.8</td>\n",
       "      <td>B</td>\n",
       "    </tr>\n",
       "    <tr>\n",
       "      <th>1013</th>\n",
       "      <td>2203539145</td>\n",
       "      <td>370388673</td>\n",
       "      <td>2019-08-14</td>\n",
       "      <td>50.1</td>\n",
       "      <td>A</td>\n",
       "    </tr>\n",
       "    <tr>\n",
       "      <th>1014</th>\n",
       "      <td>1807773912</td>\n",
       "      <td>573423106</td>\n",
       "      <td>2019-08-14</td>\n",
       "      <td>165.3</td>\n",
       "      <td>A</td>\n",
       "    </tr>\n",
       "    <tr>\n",
       "      <th>1015</th>\n",
       "      <td>3936777065</td>\n",
       "      <td>2108080724</td>\n",
       "      <td>2019-08-15</td>\n",
       "      <td>3120.1</td>\n",
       "      <td>B</td>\n",
       "    </tr>\n",
       "  </tbody>\n",
       "</table>\n",
       "<p>1016 rows × 5 columns</p>\n",
       "</div>"
      ],
      "text/plain": [
       "     transaction_id  visitor_id       date  revenue group\n",
       "0        3667963787  3312258926 2019-08-15     30.4     B\n",
       "1        2804400009  3642806036 2019-08-15     15.2     B\n",
       "2        3797467345  1196621759 2019-08-15    155.1     B\n",
       "3        2282983706  2322279887 2019-08-15     40.5     B\n",
       "4         182168103   935554773 2019-08-15     35.0     B\n",
       "...             ...         ...        ...      ...   ...\n",
       "1011     3592955527   608641596 2019-08-14    255.7     B\n",
       "1012     2662137336  3733762160 2019-08-14    100.8     B\n",
       "1013     2203539145   370388673 2019-08-14     50.1     A\n",
       "1014     1807773912   573423106 2019-08-14    165.3     A\n",
       "1015     3936777065  2108080724 2019-08-15   3120.1     B\n",
       "\n",
       "[1016 rows x 5 columns]"
      ]
     },
     "execution_count": 11,
     "metadata": {},
     "output_type": "execute_result"
    }
   ],
   "source": [
    "# Usuarios del grupo A\n",
    "users_in_group_A = orders[orders[\"group\"] == \"A\"]\n",
    "\n",
    "# Usuario del grupo B\n",
    "users_in_group_B = orders[orders[\"group\"] == \"B\"]\n",
    "\n",
    "# Usuarios que se encuentran en ambos grupos\n",
    "users_in_both_groups = list(set(users_in_group_A[\"visitor_id\"]).intersection(set(users_in_group_B[\"visitor_id\"])))\n",
    "\n",
    "# Nuevo df de orders solo con usuarios que tienen un solo grupo.b\n",
    "orders_cleaned = orders[~orders[\"visitor_id\"].isin(users_in_both_groups)].reset_index(drop= True)\n",
    "orders_cleaned"
   ]
  },
  {
   "cell_type": "markdown",
   "metadata": {},
   "source": [
    "Se decide eliminar a los usuarios que están en ambos grupos, ya que para que una prueba A/B sea fiable, los usuarios solo deben de estar en un solo grupo."
   ]
  },
  {
   "cell_type": "markdown",
   "metadata": {},
   "source": [
    "## Parte 1. Priorizar hipótesis"
   ]
  },
  {
   "cell_type": "markdown",
   "metadata": {},
   "source": [
    "### Aplicar el framework ICE para priorizar hipótesis. Ordenarlas en orden descendente de prioridad."
   ]
  },
  {
   "cell_type": "code",
   "execution_count": 12,
   "metadata": {},
   "outputs": [
    {
     "data": {
      "text/html": [
       "<div>\n",
       "<style scoped>\n",
       "    .dataframe tbody tr th:only-of-type {\n",
       "        vertical-align: middle;\n",
       "    }\n",
       "\n",
       "    .dataframe tbody tr th {\n",
       "        vertical-align: top;\n",
       "    }\n",
       "\n",
       "    .dataframe thead th {\n",
       "        text-align: right;\n",
       "    }\n",
       "</style>\n",
       "<table border=\"1\" class=\"dataframe\">\n",
       "  <thead>\n",
       "    <tr style=\"text-align: right;\">\n",
       "      <th></th>\n",
       "      <th>hypothesis</th>\n",
       "      <th>reach</th>\n",
       "      <th>impact</th>\n",
       "      <th>confidence</th>\n",
       "      <th>effort</th>\n",
       "      <th>ice_score</th>\n",
       "    </tr>\n",
       "  </thead>\n",
       "  <tbody>\n",
       "    <tr>\n",
       "      <th>8</th>\n",
       "      <td>Launch a promotion that gives users discounts ...</td>\n",
       "      <td>1</td>\n",
       "      <td>9</td>\n",
       "      <td>9</td>\n",
       "      <td>5</td>\n",
       "      <td>16.200000</td>\n",
       "    </tr>\n",
       "    <tr>\n",
       "      <th>0</th>\n",
       "      <td>Add two new channels for attracting traffic. T...</td>\n",
       "      <td>3</td>\n",
       "      <td>10</td>\n",
       "      <td>8</td>\n",
       "      <td>6</td>\n",
       "      <td>13.333333</td>\n",
       "    </tr>\n",
       "    <tr>\n",
       "      <th>7</th>\n",
       "      <td>Add a subscription form to all the main pages....</td>\n",
       "      <td>10</td>\n",
       "      <td>7</td>\n",
       "      <td>8</td>\n",
       "      <td>5</td>\n",
       "      <td>11.200000</td>\n",
       "    </tr>\n",
       "    <tr>\n",
       "      <th>6</th>\n",
       "      <td>Show banners with current offers and sales on ...</td>\n",
       "      <td>5</td>\n",
       "      <td>3</td>\n",
       "      <td>8</td>\n",
       "      <td>3</td>\n",
       "      <td>8.000000</td>\n",
       "    </tr>\n",
       "    <tr>\n",
       "      <th>2</th>\n",
       "      <td>Add product recommendation blocks to the store...</td>\n",
       "      <td>8</td>\n",
       "      <td>3</td>\n",
       "      <td>7</td>\n",
       "      <td>3</td>\n",
       "      <td>7.000000</td>\n",
       "    </tr>\n",
       "    <tr>\n",
       "      <th>1</th>\n",
       "      <td>Launch your own delivery service. This will sh...</td>\n",
       "      <td>2</td>\n",
       "      <td>5</td>\n",
       "      <td>4</td>\n",
       "      <td>10</td>\n",
       "      <td>2.000000</td>\n",
       "    </tr>\n",
       "    <tr>\n",
       "      <th>5</th>\n",
       "      <td>Add a customer review page. This will increase...</td>\n",
       "      <td>3</td>\n",
       "      <td>2</td>\n",
       "      <td>2</td>\n",
       "      <td>3</td>\n",
       "      <td>1.333333</td>\n",
       "    </tr>\n",
       "    <tr>\n",
       "      <th>3</th>\n",
       "      <td>Change the category structure. This will incre...</td>\n",
       "      <td>8</td>\n",
       "      <td>3</td>\n",
       "      <td>3</td>\n",
       "      <td>8</td>\n",
       "      <td>1.125000</td>\n",
       "    </tr>\n",
       "    <tr>\n",
       "      <th>4</th>\n",
       "      <td>Change the background color on the main page. ...</td>\n",
       "      <td>3</td>\n",
       "      <td>1</td>\n",
       "      <td>1</td>\n",
       "      <td>1</td>\n",
       "      <td>1.000000</td>\n",
       "    </tr>\n",
       "  </tbody>\n",
       "</table>\n",
       "</div>"
      ],
      "text/plain": [
       "                                          hypothesis  reach  impact  \\\n",
       "8  Launch a promotion that gives users discounts ...      1       9   \n",
       "0  Add two new channels for attracting traffic. T...      3      10   \n",
       "7  Add a subscription form to all the main pages....     10       7   \n",
       "6  Show banners with current offers and sales on ...      5       3   \n",
       "2  Add product recommendation blocks to the store...      8       3   \n",
       "1  Launch your own delivery service. This will sh...      2       5   \n",
       "5  Add a customer review page. This will increase...      3       2   \n",
       "3  Change the category structure. This will incre...      8       3   \n",
       "4  Change the background color on the main page. ...      3       1   \n",
       "\n",
       "   confidence  effort  ice_score  \n",
       "8           9       5  16.200000  \n",
       "0           8       6  13.333333  \n",
       "7           8       5  11.200000  \n",
       "6           8       3   8.000000  \n",
       "2           7       3   7.000000  \n",
       "1           4      10   2.000000  \n",
       "5           2       3   1.333333  \n",
       "3           3       8   1.125000  \n",
       "4           1       1   1.000000  "
      ]
     },
     "execution_count": 12,
     "metadata": {},
     "output_type": "execute_result"
    }
   ],
   "source": [
    "hypotheses[\"ice_score\"] = (hypotheses[\"impact\"] * hypotheses[\"confidence\"]) / hypotheses[\"effort\"]\n",
    "hypotheses.sort_values(by = \"ice_score\", ascending = False)"
   ]
  },
  {
   "cell_type": "markdown",
   "metadata": {},
   "source": [
    "### Aplicar el framework RICE para priorizar hipótesis. Ordenarlas en orden descendente de prioridad."
   ]
  },
  {
   "cell_type": "code",
   "execution_count": 13,
   "metadata": {},
   "outputs": [
    {
     "data": {
      "text/html": [
       "<div>\n",
       "<style scoped>\n",
       "    .dataframe tbody tr th:only-of-type {\n",
       "        vertical-align: middle;\n",
       "    }\n",
       "\n",
       "    .dataframe tbody tr th {\n",
       "        vertical-align: top;\n",
       "    }\n",
       "\n",
       "    .dataframe thead th {\n",
       "        text-align: right;\n",
       "    }\n",
       "</style>\n",
       "<table border=\"1\" class=\"dataframe\">\n",
       "  <thead>\n",
       "    <tr style=\"text-align: right;\">\n",
       "      <th></th>\n",
       "      <th>hypothesis</th>\n",
       "      <th>reach</th>\n",
       "      <th>impact</th>\n",
       "      <th>confidence</th>\n",
       "      <th>effort</th>\n",
       "      <th>ice_score</th>\n",
       "      <th>rice_score</th>\n",
       "    </tr>\n",
       "  </thead>\n",
       "  <tbody>\n",
       "    <tr>\n",
       "      <th>7</th>\n",
       "      <td>Add a subscription form to all the main pages....</td>\n",
       "      <td>10</td>\n",
       "      <td>7</td>\n",
       "      <td>8</td>\n",
       "      <td>5</td>\n",
       "      <td>11.200000</td>\n",
       "      <td>112.0</td>\n",
       "    </tr>\n",
       "    <tr>\n",
       "      <th>2</th>\n",
       "      <td>Add product recommendation blocks to the store...</td>\n",
       "      <td>8</td>\n",
       "      <td>3</td>\n",
       "      <td>7</td>\n",
       "      <td>3</td>\n",
       "      <td>7.000000</td>\n",
       "      <td>56.0</td>\n",
       "    </tr>\n",
       "    <tr>\n",
       "      <th>0</th>\n",
       "      <td>Add two new channels for attracting traffic. T...</td>\n",
       "      <td>3</td>\n",
       "      <td>10</td>\n",
       "      <td>8</td>\n",
       "      <td>6</td>\n",
       "      <td>13.333333</td>\n",
       "      <td>40.0</td>\n",
       "    </tr>\n",
       "    <tr>\n",
       "      <th>6</th>\n",
       "      <td>Show banners with current offers and sales on ...</td>\n",
       "      <td>5</td>\n",
       "      <td>3</td>\n",
       "      <td>8</td>\n",
       "      <td>3</td>\n",
       "      <td>8.000000</td>\n",
       "      <td>40.0</td>\n",
       "    </tr>\n",
       "    <tr>\n",
       "      <th>8</th>\n",
       "      <td>Launch a promotion that gives users discounts ...</td>\n",
       "      <td>1</td>\n",
       "      <td>9</td>\n",
       "      <td>9</td>\n",
       "      <td>5</td>\n",
       "      <td>16.200000</td>\n",
       "      <td>16.2</td>\n",
       "    </tr>\n",
       "    <tr>\n",
       "      <th>3</th>\n",
       "      <td>Change the category structure. This will incre...</td>\n",
       "      <td>8</td>\n",
       "      <td>3</td>\n",
       "      <td>3</td>\n",
       "      <td>8</td>\n",
       "      <td>1.125000</td>\n",
       "      <td>9.0</td>\n",
       "    </tr>\n",
       "    <tr>\n",
       "      <th>1</th>\n",
       "      <td>Launch your own delivery service. This will sh...</td>\n",
       "      <td>2</td>\n",
       "      <td>5</td>\n",
       "      <td>4</td>\n",
       "      <td>10</td>\n",
       "      <td>2.000000</td>\n",
       "      <td>4.0</td>\n",
       "    </tr>\n",
       "    <tr>\n",
       "      <th>5</th>\n",
       "      <td>Add a customer review page. This will increase...</td>\n",
       "      <td>3</td>\n",
       "      <td>2</td>\n",
       "      <td>2</td>\n",
       "      <td>3</td>\n",
       "      <td>1.333333</td>\n",
       "      <td>4.0</td>\n",
       "    </tr>\n",
       "    <tr>\n",
       "      <th>4</th>\n",
       "      <td>Change the background color on the main page. ...</td>\n",
       "      <td>3</td>\n",
       "      <td>1</td>\n",
       "      <td>1</td>\n",
       "      <td>1</td>\n",
       "      <td>1.000000</td>\n",
       "      <td>3.0</td>\n",
       "    </tr>\n",
       "  </tbody>\n",
       "</table>\n",
       "</div>"
      ],
      "text/plain": [
       "                                          hypothesis  reach  impact  \\\n",
       "7  Add a subscription form to all the main pages....     10       7   \n",
       "2  Add product recommendation blocks to the store...      8       3   \n",
       "0  Add two new channels for attracting traffic. T...      3      10   \n",
       "6  Show banners with current offers and sales on ...      5       3   \n",
       "8  Launch a promotion that gives users discounts ...      1       9   \n",
       "3  Change the category structure. This will incre...      8       3   \n",
       "1  Launch your own delivery service. This will sh...      2       5   \n",
       "5  Add a customer review page. This will increase...      3       2   \n",
       "4  Change the background color on the main page. ...      3       1   \n",
       "\n",
       "   confidence  effort  ice_score  rice_score  \n",
       "7           8       5  11.200000       112.0  \n",
       "2           7       3   7.000000        56.0  \n",
       "0           8       6  13.333333        40.0  \n",
       "6           8       3   8.000000        40.0  \n",
       "8           9       5  16.200000        16.2  \n",
       "3           3       8   1.125000         9.0  \n",
       "1           4      10   2.000000         4.0  \n",
       "5           2       3   1.333333         4.0  \n",
       "4           1       1   1.000000         3.0  "
      ]
     },
     "execution_count": 13,
     "metadata": {},
     "output_type": "execute_result"
    }
   ],
   "source": [
    "hypotheses[\"rice_score\"] = (hypotheses[\"reach\"] * hypotheses[\"impact\"] * hypotheses[\"confidence\"] ) / hypotheses[\"effort\"]\n",
    "hypotheses.sort_values(by = \"rice_score\", ascending = False)"
   ]
  },
  {
   "cell_type": "markdown",
   "metadata": {},
   "source": [
    "Existe una diferencia en resultados entre el método ICE y el método RICE, la principal diferecnia radica en que el método RICE considera el alcance (reach), el cual se multiplica a lo que ya se tiene, por tanto aquellas hipótesis con un alto alcance tendrán una prioridad mas alta, en pocas palabras, comparando ICE vs RICE, el parámetro reach definirá la prioridad.\n",
    "\n",
    " Por tanto, la hipótesis 7 se toma como la prioridad, al igual en el método ICE la hipótesis 7 se encuentra dentro del top 3, mientras que la hipótesis 8 de ser la número 1 en el método ICE, pasó a la posición 5 con el método RICE, esto debido a que tiene la puntuación mas baja en alcance."
   ]
  },
  {
   "cell_type": "markdown",
   "metadata": {},
   "source": [
    "## Parte 2. Análisis de test A/B"
   ]
  },
  {
   "cell_type": "markdown",
   "metadata": {},
   "source": [
    "### Representa gráficamente el ingreso acumulado por grupo. Haz conclusiones y conjeturas.\n"
   ]
  },
  {
   "cell_type": "code",
   "execution_count": 14,
   "metadata": {},
   "outputs": [],
   "source": [
    "# DF con fecha y grupo\n",
    "datesGroups = orders_cleaned[[\"date\",\"group\"]].drop_duplicates().reset_index(drop= True)\n",
    "\n",
    "# DF de ingresos acumulados por fecha y número\n",
    "ordersAggregated = datesGroups.apply(\n",
    "    lambda x: orders_cleaned[np.logical_and(orders_cleaned[\"date\"] <= x[\"date\"],\n",
    "                            orders_cleaned[\"group\"] == x[\"group\"])].agg({\"date\":\"max\",\"group\":\"max\", \"transaction_id\":pd.Series.nunique, \"visitor_id\":pd.Series.nunique ,\"revenue\":\"sum\"})\n",
    ",axis = 1).sort_values(by =[\"date\",\"group\"])\n",
    "\n"
   ]
  },
  {
   "cell_type": "code",
   "execution_count": 15,
   "metadata": {},
   "outputs": [
    {
     "data": {
      "image/png": "[encoded data removed]",
      "text/plain": [
       "<Figure size 640x480 with 1 Axes>"
      ]
     },
     "metadata": {},
     "output_type": "display_data"
    }
   ],
   "source": [
    "# Ingresos acumulados del grupo A\n",
    "cumulativeRevenueA = ordersAggregated[ordersAggregated[\"group\"]==\"A\"][[\"date\",\"revenue\"]]\n",
    "plt.plot(cumulativeRevenueA[\"date\"], cumulativeRevenueA[\"revenue\"], label = \"A\")\n",
    "\n",
    "# Ingresos acumulados del grupo B\n",
    "cumulativeRevenueB = ordersAggregated[ordersAggregated[\"group\"]==\"B\"][[\"date\",\"revenue\"]]\n",
    "plt.plot(cumulativeRevenueB[\"date\"], cumulativeRevenueB[\"revenue\"], label = \"B\")\n",
    "\n",
    "# Persoanlización del gráfico\n",
    "plt.gca().xaxis.set_major_formatter(mdates.DateFormatter('%Y-%m-%d'))\n",
    "plt.gca().xaxis.set_major_locator(mdates.DayLocator(interval=7))\n",
    "plt.xlabel('Date')\n",
    "plt.ylabel('Cumulative Revenue')\n",
    "plt.title('Ganancias acumuladas por grupo')\n",
    "plt.legend()\n",
    "plt.show()"
   ]
  },
  {
   "cell_type": "markdown",
   "metadata": {},
   "source": [
    "Se observan posibles valores atípicos para el grupo B, dado que tiene un brinco muy abrupto, sin embargo, se pudiera considerar una ligera ventaja del grupo B."
   ]
  },
  {
   "cell_type": "markdown",
   "metadata": {},
   "source": [
    "### Representa gráficamente el tamaño de pedido promedio acumulado por grupo. Haz conclusiones y conjeturas."
   ]
  },
  {
   "cell_type": "code",
   "execution_count": 16,
   "metadata": {},
   "outputs": [],
   "source": [
    "# DF de ingresos acumulados por fecha y número\n",
    "ordersAggregatedMean = datesGroups.apply(\n",
    "    lambda x: orders_cleaned[np.logical_and(orders_cleaned[\"date\"] <= x[\"date\"],\n",
    "                            orders_cleaned[\"group\"] == x[\"group\"])].agg({\"date\":\"max\",\"group\":\"max\", \"transaction_id\":pd.Series.nunique, \"visitor_id\":pd.Series.nunique ,\"revenue\":\"mean\"})\n",
    ",axis = 1).sort_values(by =[\"date\",\"group\"])"
   ]
  },
  {
   "cell_type": "code",
   "execution_count": 17,
   "metadata": {},
   "outputs": [
    {
     "data": {
      "image/png": "[encoded data removed]",
      "text/plain": [
       "<Figure size 640x480 with 1 Axes>"
      ]
     },
     "metadata": {},
     "output_type": "display_data"
    }
   ],
   "source": [
    "# Ingresos promedio acumulados del grupo A\n",
    "cumulativeRevenueMeanA = ordersAggregatedMean[ordersAggregatedMean[\"group\"]==\"A\"][[\"date\",\"revenue\"]]\n",
    "plt.plot(cumulativeRevenueMeanA[\"date\"], cumulativeRevenueMeanA[\"revenue\"], label = \"A\")\n",
    "\n",
    "# Ingresos promedio acumulados del grupo B\n",
    "cumulativeRevenueMeanB = ordersAggregatedMean[ordersAggregatedMean[\"group\"]==\"B\"][[\"date\",\"revenue\"]]\n",
    "plt.plot(cumulativeRevenueMeanB[\"date\"], cumulativeRevenueMeanB[\"revenue\"], label = \"B\")\n",
    "\n",
    "# Persoanlización del gráfico\n",
    "plt.gca().xaxis.set_major_formatter(mdates.DateFormatter('%Y-%m-%d'))\n",
    "plt.gca().xaxis.set_major_locator(mdates.DayLocator(interval=7))\n",
    "plt.xlabel('Date')\n",
    "plt.ylabel('Cumulative Mean Revenue')\n",
    "plt.title('Tamaño de pedido promedio acumuladas por grupo')\n",
    "plt.legend()\n",
    "plt.show()"
   ]
  },
  {
   "cell_type": "markdown",
   "metadata": {},
   "source": [
    "Aún con el promedio acumulado, el brinco del grupo B es muy marcado, sin embargo, se observa al final del mes una estabilización."
   ]
  },
  {
   "cell_type": "markdown",
   "metadata": {},
   "source": [
    "### Representa gráficamente la diferencia relativa en el tamaño de pedido promedio acumulado para el grupo B en comparación con el grupo A. Haz conclusiones y conjeturas."
   ]
  },
  {
   "cell_type": "code",
   "execution_count": 18,
   "metadata": {},
   "outputs": [
    {
     "data": {
      "image/png": "[encoded data removed]",
      "text/plain": [
       "<Figure size 640x480 with 1 Axes>"
      ]
     },
     "metadata": {},
     "output_type": "display_data"
    }
   ],
   "source": [
    "mergedCumulativeRevenueMean =  cumulativeRevenueMeanA.merge(cumulativeRevenueMeanB, on =\"date\", suffixes= [\"A\", \"B\"])\n",
    "\n",
    "plt.plot(mergedCumulativeRevenueMean[\"date\"], mergedCumulativeRevenueMean[\"revenueB\"]/ mergedCumulativeRevenueMean[\"revenueA\"] - 1)\n",
    "\n",
    "# Personalización del gráfico\n",
    "plt.gca().xaxis.set_major_formatter(mdates.DateFormatter('%Y-%m-%d'))\n",
    "plt.gca().xaxis.set_major_locator(mdates.DayLocator(interval=7))\n",
    "plt.xlabel('Date')\n",
    "plt.ylabel('Diferencia relativa: Promedio de ingresos B/A')\n",
    "plt.title('Ganancias promedio acumuladas')\n",
    "plt.axhline(y=0, color='black', linestyle='--')\n",
    "plt.show()"
   ]
  },
  {
   "cell_type": "markdown",
   "metadata": {},
   "source": [
    "El gráfico de diferencia relativa muestra aparentemente una ventaja del grupo B, sin emabrgo, si el valor atípico se confirma, es probable que el grupo B tenga un resultado por debajo del grupo A,."
   ]
  },
  {
   "cell_type": "markdown",
   "metadata": {},
   "source": [
    "### Calcula la tasa de conversión de cada grupo como la relación entre los pedidos y el número de visitas de cada día. Representa gráficamente las tasas de conversión diarias de los dos grupos y describe la diferencia. Saca conclusiones y haz conjeturas."
   ]
  },
  {
   "cell_type": "code",
   "execution_count": 19,
   "metadata": {},
   "outputs": [
    {
     "data": {
      "image/png": "[encoded data removed]",
      "text/plain": [
       "<Figure size 640x480 with 1 Axes>"
      ]
     },
     "metadata": {},
     "output_type": "display_data"
    }
   ],
   "source": [
    "# Información por día y por grupo\n",
    "ordersAggregated = orders_cleaned.groupby([\"date\",\"group\"], as_index= False).agg({\"revenue\":\"sum\", \"transaction_id\":pd.Series.nunique, \"visitor_id\":pd.Series.nunique})\n",
    "ordersAggregated.columns=[\"date\", \"group\", \"revenue\", \"orders\", \"buyers\"]\n",
    "\n",
    "# Unión del df obtenido con visits\n",
    "data_merged = ordersAggregated.merge(visits, on =(\"date\",\"group\"))\n",
    "\n",
    "# Cálculo de la conversión\n",
    "data_merged[\"conversion\"] = data_merged[\"orders\"] / data_merged[\"visits\"]\n",
    "\n",
    "# Conversión grupo A\n",
    "conversion_A = data_merged[data_merged[\"group\"] == \"A\"]\n",
    "plt.plot(conversion_A[\"date\"], conversion_A[\"conversion\"], label = \"A\")\n",
    "\n",
    "# Conversión grupo B\n",
    "conversion_B = data_merged[data_merged[\"group\"] == \"B\"]\n",
    "plt.plot(conversion_B[\"date\"], conversion_B[\"conversion\"], label = \"B\")\n",
    "\n",
    "# Personalización del gráfico\n",
    "plt.gca().xaxis.set_major_formatter(mdates.DateFormatter('%Y-%m-%d'))\n",
    "plt.gca().xaxis.set_major_locator(mdates.DayLocator(interval=7))\n",
    "plt.xlabel('Date')\n",
    "plt.ylabel('Tasa de Conversión')\n",
    "plt.title('Conversión por grupo')\n",
    "plt.legend()\n",
    "plt.show()"
   ]
  },
  {
   "cell_type": "code",
   "execution_count": 20,
   "metadata": {},
   "outputs": [
    {
     "data": {
      "image/png": "[encoded data removed]",
      "text/plain": [
       "<Figure size 640x480 with 1 Axes>"
      ]
     },
     "metadata": {},
     "output_type": "display_data"
    }
   ],
   "source": [
    "# Información acumulada\n",
    "cumulative_data = datesGroups.apply(\n",
    "    lambda x: data_merged[np.logical_and(data_merged[\"date\"] <= x[\"date\"],\n",
    "                            data_merged[\"group\"] == x[\"group\"])].agg({\"date\":\"max\",\"group\":\"max\", \"orders\":\"sum\", \"buyers\":\"sum\" ,\"revenue\":\"sum\", \"visits\":\"sum\"})\n",
    ",axis = 1).sort_values(by =[\"date\",\"group\"])\n",
    "\n",
    "# Cálculo de la conversión con valores acumulados\n",
    "cumulative_data[\"conversion\"] =cumulative_data[\"orders\"] / cumulative_data[\"visits\"]\n",
    "\n",
    "\n",
    "# Conversión grupo A\n",
    "cumulative_conversion_A = cumulative_data[cumulative_data[\"group\"] == \"A\"]\n",
    "plt.plot(cumulative_conversion_A[\"date\"], cumulative_conversion_A[\"conversion\"], label = \"A\")\n",
    "\n",
    "# Conversión grupo B\n",
    "cumulative_conversion_B = cumulative_data[cumulative_data[\"group\"] == \"B\"]\n",
    "plt.plot(cumulative_conversion_B[\"date\"], cumulative_conversion_B[\"conversion\"], label = \"B\")\n",
    "\n",
    "# Personalización del gráfico\n",
    "plt.gca().xaxis.set_major_formatter(mdates.DateFormatter('%Y-%m-%d'))\n",
    "plt.gca().xaxis.set_major_locator(mdates.DayLocator(interval=7))\n",
    "plt.xlabel('Date')\n",
    "plt.ylabel('Tasa de Conversión')\n",
    "plt.title('Conversión de valores acumulados por grupo')\n",
    "plt.legend()\n",
    "plt.show()"
   ]
  },
  {
   "cell_type": "markdown",
   "metadata": {},
   "source": [
    "El gráfico de la conversión simple, no deja claro un comportamiento, dado que no se logra captar un patrón, sin embargo, si vemos la conversión de los datos acumulados,  apesar de que al inicio los resultados parecían favorecer al grupo A, una vez estabilizada la prueba podemos observar que el grupo B tiene una mayor conversión."
   ]
  },
  {
   "cell_type": "markdown",
   "metadata": {},
   "source": [
    "### Traza un gráfico de dispersión del número de pedidos por usuario. Haz conclusiones y conjeturas"
   ]
  },
  {
   "cell_type": "code",
   "execution_count": 21,
   "metadata": {},
   "outputs": [
    {
     "data": {
      "image/png": "[encoded data removed]",
      "text/plain": [
       "<Figure size 640x480 with 1 Axes>"
      ]
     },
     "metadata": {},
     "output_type": "display_data"
    }
   ],
   "source": [
    "# ördenes por usuario\n",
    "orders_per_user = orders_cleaned.groupby(\"visitor_id\", as_index = False).agg({\"transaction_id\":pd.Series.nunique})\n",
    "\n",
    "# Renombre de columnas\n",
    "orders_per_user.columns = [\"visitor_id\", \"orders\"]\n",
    "\n",
    "# Creación de la serie para el gráfico de dispersión\n",
    "x_values_orders = pd.Series(range(0, len(orders_per_user[\"orders\"])))\n",
    "\n",
    "plt.scatter(x_values_orders, orders_per_user[\"orders\"])\n",
    "# Personalización del gráfico\n",
    "plt.xlabel('Serie')\n",
    "plt.ylabel('Órdenes')\n",
    "plt.title('Compras por usuario')\n",
    "plt.show()"
   ]
  },
  {
   "cell_type": "markdown",
   "metadata": {},
   "source": [
    "La mayor cantidad de usuarios realizar solo una compra, solo una pequeña contidad realiza 2 o mas compras."
   ]
  },
  {
   "cell_type": "markdown",
   "metadata": {},
   "source": [
    "### Calcula los percentiles 95 y 99 para el número de pedidos por usuario. Define el punto en el cual un punto de datos se convierte en una anomalía."
   ]
  },
  {
   "cell_type": "code",
   "execution_count": 22,
   "metadata": {
    "scrolled": true
   },
   "outputs": [
    {
     "name": "stdout",
     "output_type": "stream",
     "text": [
      "El percentil 95 es:  1.0\n",
      "El percentil 99 es:  2.0\n"
     ]
    }
   ],
   "source": [
    "print(\"El percentil 95 es: \",np.percentile(orders_per_user[\"orders\"],95))\n",
    "print(\"El percentil 99 es: \",np.percentile(orders_per_user[\"orders\"],99))"
   ]
  },
  {
   "cell_type": "markdown",
   "metadata": {},
   "source": [
    "Dado que el percentil 95 es 1 y está en el mínimo de compras, tomaremos el percetil 99 como valor a considerar, por tanto deben de ser eliminados todos aquellos usuarios con 2 o mas compras."
   ]
  },
  {
   "cell_type": "markdown",
   "metadata": {},
   "source": [
    "### Traza un gráfico de dispersión de los precios de los pedidos. Haz conclusiones y conjeturas."
   ]
  },
  {
   "cell_type": "code",
   "execution_count": 23,
   "metadata": {},
   "outputs": [
    {
     "data": {
      "image/png": "[encoded data removed]",
      "text/plain": [
       "<Figure size 640x480 with 1 Axes>"
      ]
     },
     "metadata": {},
     "output_type": "display_data"
    }
   ],
   "source": [
    "# Creación de serie numerada para poder hacer un gráfico de disperción\n",
    "x_values = pd.Series(range(0, len(orders_cleaned[\"revenue\"])))\n",
    "\n",
    "# Creación de gráfico de dispersión\n",
    "plt.scatter(x_values, orders_cleaned['revenue'])\n",
    "\n",
    "# Personalización del gráfico\n",
    "plt.xlabel('Serie')\n",
    "plt.ylabel('Ingresos')\n",
    "plt.title('Ingresos por compra')\n",
    "plt.show()"
   ]
  },
  {
   "cell_type": "markdown",
   "metadata": {},
   "source": [
    "Con éste gráfico no es muy visible una cantidad, sin embargo se tienen 2 puntos atípicos y la mayoría de las ganancias están por debajo de 2500."
   ]
  },
  {
   "cell_type": "code",
   "execution_count": 24,
   "metadata": {},
   "outputs": [
    {
     "data": {
      "image/png": "[encoded data removed]",
      "text/plain": [
       "<Figure size 640x480 with 1 Axes>"
      ]
     },
     "metadata": {},
     "output_type": "display_data"
    }
   ],
   "source": [
    "# Histograma\n",
    "plt.hist(orders_cleaned['revenue'], bins = 100)\n",
    "# Personalización del gráfico\n",
    "plt.xlabel('Ganancias')\n",
    "plt.ylabel('Usuarios')\n",
    "plt.title('Ganancias por usuario')\n",
    "plt.show()"
   ]
  },
  {
   "cell_type": "markdown",
   "metadata": {},
   "source": [
    "El histograma nos muestra información muy parecida al gráfico de dispersión, habrá que eliminar valores atípicos para una mejor visualización"
   ]
  },
  {
   "cell_type": "markdown",
   "metadata": {},
   "source": [
    "### Calcula los percentiles 95 y 99 de los precios de los pedidos. Define el punto en el cual un punto de datos se convierte en una anomalía."
   ]
  },
  {
   "cell_type": "code",
   "execution_count": 25,
   "metadata": {},
   "outputs": [
    {
     "name": "stdout",
     "output_type": "stream",
     "text": [
      "El percentil 95 es:  414.275\n",
      "El percentil 99 es:  830.3\n"
     ]
    }
   ],
   "source": [
    "# Cálculo de precentiles 95 y 99\n",
    "print(\"El percentil 95 es: \",np.percentile(orders_cleaned['revenue'],95))\n",
    "print(\"El percentil 99 es: \",np.percentile(orders_cleaned['revenue'],99))"
   ]
  },
  {
   "cell_type": "markdown",
   "metadata": {},
   "source": [
    "Eliminaremos los datos que se encuentren por encima de 500, dado que está por encima del percentil 95 y es un número más fácil de manejar."
   ]
  },
  {
   "cell_type": "markdown",
   "metadata": {},
   "source": [
    "### Encuentra la significancia estadística de la diferencia en la conversión entre los grupos utilizando los datos en bruto. Haz conclusiones y conjeturas."
   ]
  },
  {
   "cell_type": "code",
   "execution_count": 26,
   "metadata": {},
   "outputs": [
    {
     "name": "stdout",
     "output_type": "stream",
     "text": [
      "p_value:  0.011\n",
      "Relación B/A:  0.16\n"
     ]
    }
   ],
   "source": [
    "# Órdenes de grupo A\n",
    "ordersByUsersA = orders_cleaned[orders_cleaned[\"group\"] == \"A\"].groupby(\n",
    "    \"visitor_id\", as_index = False).agg({\"transaction_id\":pd.Series.nunique})\n",
    "ordersByUsersA.columns = ['visitor_id', 'orders']\n",
    "\n",
    "# Órdenes de grupo B\n",
    "ordersByUsersB = orders_cleaned[orders_cleaned[\"group\"] == \"B\"].groupby(\n",
    "    \"visitor_id\", as_index = False).agg({\"transaction_id\":pd.Series.nunique})\n",
    "ordersByUsersB.columns = ['visitor_id', 'orders']\n",
    "\n",
    "# Serie de compras por usuario del grupo A\n",
    "sampleA = pd.concat([ordersByUsersA['orders'],pd.Series(\n",
    "    0, index=np.arange(visits[visits['group']=='A']['visits'].sum() - len(ordersByUsersA['orders'])),\n",
    "    name='orders')],axis=0)\n",
    "\n",
    "# Serie de compras por usuario del grupo B\n",
    "sampleB = pd.concat([ordersByUsersB['orders'],pd.Series(\n",
    "    0, index=np.arange(visits[visits['group']=='B']['visits'].sum() - len(ordersByUsersB['orders'])),\n",
    "    name='orders')],axis=0)\n",
    "\n",
    "# Obtención del P_value\n",
    "print(\"p_value: \",round(stats.mannwhitneyu(sampleA, sampleB)[1],3))\n",
    "\n",
    "# Relación de promedios\n",
    "print(\"Relación B/A: \",round(sampleB.mean()/sampleA.mean() - 1, 3))"
   ]
  },
  {
   "cell_type": "markdown",
   "metadata": {},
   "source": [
    "El P valor está por debajo del alpha 0.5,por tanto se rechaza la hipótesis nula, por lo que hay evidencia de que las muestras no son iguales, por otro lado, la relación B/A, nos indica que el grupo B está un 16% arriba del grupo A, esto es tomando en cuenta la información con valores atípicos."
   ]
  },
  {
   "cell_type": "markdown",
   "metadata": {},
   "source": [
    "### Encuentra la significancia estadística de la diferencia en el tamaño promedio de pedido entre los grupos utilizando los datos en bruto. Haz conclusiones y conjeturas."
   ]
  },
  {
   "cell_type": "code",
   "execution_count": 27,
   "metadata": {},
   "outputs": [
    {
     "name": "stdout",
     "output_type": "stream",
     "text": [
      "P_value:  0.862\n",
      "La relación B/A es:  0.278\n"
     ]
    }
   ],
   "source": [
    "# Obtención del p valor para los ingresos\n",
    "print(\"P_value: \",round(\n",
    "    stats.mannwhitneyu(\n",
    "        orders_cleaned[orders_cleaned[\"group\"]==\"A\"][\"revenue\"], orders_cleaned[orders_cleaned[\"group\"]==\"B\"][\"revenue\"]\n",
    "    )[1]\n",
    ",3)\n",
    "     )\n",
    "\n",
    "# Relación de promedios de ingresos\n",
    "print(\"La relación B/A es: \",round(\n",
    "    orders_cleaned[orders_cleaned[\"group\"]==\"B\"][\"revenue\"].mean() /\n",
    "    orders_cleaned[orders_cleaned[\"group\"]==\"A\"][\"revenue\"].mean() -1\n",
    "    , 3)\n",
    ")"
   ]
  },
  {
   "cell_type": "markdown",
   "metadata": {},
   "source": [
    "Dado que el P valor se encuentra por encima de alpha 0.5, no se puede rechazar la hipótesis nula, dado que hay evidencia de que los tamaños de las compras son iguales entre ambos grupos.\n",
    "Por otro lado, el promedio de compra del grupo B es un 27.8% mas alto que el grupo A, esto tomando en cuenta información con valores atípicos."
   ]
  },
  {
   "cell_type": "markdown",
   "metadata": {},
   "source": [
    "### Encuentra la significancia estadística de la diferencia en la conversión entre los grupos utilizando los datos filtrados. Haz conclusiones y conjeturas."
   ]
  },
  {
   "cell_type": "code",
   "execution_count": 28,
   "metadata": {},
   "outputs": [
    {
     "name": "stdout",
     "output_type": "stream",
     "text": [
      "(72,)\n"
     ]
    }
   ],
   "source": [
    "# Obtención de usuarios con valores atípicos en números de órdenes y tamaño de compra\n",
    "\n",
    "# Usuarios 2 o más órdenes\n",
    "usersWithManyOrders = pd.concat([ordersByUsersA[ordersByUsersA[\"orders\"] >= 2][\"visitor_id\"],\n",
    "                                ordersByUsersB[ordersByUsersB[\"orders\"] >= 2][\"visitor_id\"]], axis = 0)\n",
    "\n",
    "# Usuarios mas de 500 de compra\n",
    "usersWithExpensiveOrders = orders_cleaned[orders_cleaned[\"revenue\"] > 500 ][\"visitor_id\"]\n",
    "\n",
    "# Usuarios que entran en las 2 categorías\n",
    "abnormalUsers = pd.concat([usersWithManyOrders,usersWithExpensiveOrders], axis = 0).drop_duplicates().sort_values()\n",
    "print(abnormalUsers.shape)"
   ]
  },
  {
   "cell_type": "code",
   "execution_count": 29,
   "metadata": {},
   "outputs": [],
   "source": [
    "# Número de órdenes por usuario del Grupo A eliminando los usuarios con valores atípicos\n",
    "sampleAFiltered = pd.concat([ordersByUsersA[np.logical_not(ordersByUsersA[\"visitor_id\"].isin(abnormalUsers))][\"orders\"],\n",
    "                             pd.Series(0, index = np.arange(visits[visits[\"group\"] == \"A\"][\"visits\"].sum() - len(ordersByUsersA[\"orders\"])), name= \"orders\")\n",
    "                            ], axis= 0)\n",
    "\n",
    "# Número de órdenes por usuario del Grupo B eliminando los usuarios con valores atípicos\n",
    "sampleBFiltered = pd.concat([ordersByUsersB[np.logical_not(ordersByUsersB[\"visitor_id\"].isin(abnormalUsers))][\"orders\"],\n",
    "                             pd.Series(0, index = np.arange(visits[visits[\"group\"] == \"B\"][\"visits\"].sum() - len(ordersByUsersB[\"orders\"])), name= \"orders\")\n",
    "                            ], axis= 0)\n"
   ]
  },
  {
   "cell_type": "code",
   "execution_count": 30,
   "metadata": {
    "scrolled": true
   },
   "outputs": [
    {
     "name": "stdout",
     "output_type": "stream",
     "text": [
      "p_value:  0.01\n",
      "Relación B/A:  0.186\n"
     ]
    }
   ],
   "source": [
    "# Obtención del P_value\n",
    "print(\"p_value: \",round(stats.mannwhitneyu(sampleAFiltered, sampleBFiltered)[1],3))\n",
    "\n",
    "# Relación de promedios\n",
    "print(\"Relación B/A: \",round(sampleBFiltered.mean()/sampleAFiltered.mean() - 1, 3))"
   ]
  },
  {
   "cell_type": "markdown",
   "metadata": {},
   "source": [
    "Con los datos filtrados (eliminando atípicos), se obtiene un p valor de  0.01, por lo que se rechaza la hipótesis nula, dado que el p valor es menor de 0.05.Esto nos dice que hay evidencia suficientes para decir que ambos grupos tiene diferencia significativa estadísticamente.\n",
    "\n",
    "Por otro lado, el grupo B tiene un 18.6% mas de efectividad que el grupo A en cuanto a conversión."
   ]
  },
  {
   "cell_type": "code",
   "execution_count": 31,
   "metadata": {},
   "outputs": [
    {
     "data": {
      "text/html": [
       "<div>\n",
       "<style scoped>\n",
       "    .dataframe tbody tr th:only-of-type {\n",
       "        vertical-align: middle;\n",
       "    }\n",
       "\n",
       "    .dataframe tbody tr th {\n",
       "        vertical-align: top;\n",
       "    }\n",
       "\n",
       "    .dataframe thead th {\n",
       "        text-align: right;\n",
       "    }\n",
       "</style>\n",
       "<table border=\"1\" class=\"dataframe\">\n",
       "  <thead>\n",
       "    <tr style=\"text-align: right;\">\n",
       "      <th></th>\n",
       "      <th>data</th>\n",
       "      <th>p_valor</th>\n",
       "      <th>relación B/A</th>\n",
       "    </tr>\n",
       "  </thead>\n",
       "  <tbody>\n",
       "    <tr>\n",
       "      <th>0</th>\n",
       "      <td>bruto</td>\n",
       "      <td>0.011</td>\n",
       "      <td>0.160</td>\n",
       "    </tr>\n",
       "    <tr>\n",
       "      <th>1</th>\n",
       "      <td>filtrada</td>\n",
       "      <td>0.010</td>\n",
       "      <td>0.186</td>\n",
       "    </tr>\n",
       "  </tbody>\n",
       "</table>\n",
       "</div>"
      ],
      "text/plain": [
       "       data  p_valor  relación B/A\n",
       "0     bruto    0.011         0.160\n",
       "1  filtrada    0.010         0.186"
      ]
     },
     "execution_count": 31,
     "metadata": {},
     "output_type": "execute_result"
    }
   ],
   "source": [
    "# Tabla comparativa\n",
    "tabla_conversion = pd.DataFrame({\n",
    "    \"data\":[\"bruto\",\"filtrada\"],\n",
    "    \"p_valor\":[0.011, 0.01],\n",
    "    \"relación B/A\":[0.16, 0.186]\n",
    "})\n",
    "tabla_conversion"
   ]
  },
  {
   "cell_type": "markdown",
   "metadata": {},
   "source": [
    "En la tabla podemos observar que la información con y sin filtrar muestra resultados muy parecidos en cuanto a la conversión.\n",
    "En ambas, hay evidencia de que las muestras son diferentes, y en ambas el grupo B tiene una relación de promedios entre el 16 y 19%."
   ]
  },
  {
   "cell_type": "markdown",
   "metadata": {},
   "source": [
    "### Encuentra la significancia estadística de la diferencia en el tamaño promedio de pedido entre los grupos utilizando los datos filtrados. Haz conclusiones y conjeturas."
   ]
  },
  {
   "cell_type": "code",
   "execution_count": 32,
   "metadata": {},
   "outputs": [
    {
     "name": "stdout",
     "output_type": "stream",
     "text": [
      "P_value:  0.992\n",
      "La relación B/A es:  0.016\n"
     ]
    }
   ],
   "source": [
    "# Obtención del p valor para los ingresos\n",
    "print(\"P_value: \",round(\n",
    "    stats.mannwhitneyu(\n",
    "        orders_cleaned[np.logical_and(orders_cleaned[\"group\"] ==\"A\", np.logical_not(orders_cleaned[\"visitor_id\"].isin(abnormalUsers)))][\"revenue\"],\n",
    "        orders_cleaned[np.logical_and(orders_cleaned[\"group\"] ==\"B\", np.logical_not(orders_cleaned[\"visitor_id\"].isin(abnormalUsers)))][\"revenue\"]\n",
    "    )[1]\n",
    ",3)\n",
    "     )\n",
    "\n",
    "# Relación de promedios de ingresos\n",
    "print(\"La relación B/A es: \",round(\n",
    "    orders_cleaned[np.logical_and(orders_cleaned[\"group\"]==\"B\", np.logical_not(orders_cleaned[\"visitor_id\"].isin(abnormalUsers)))][\"revenue\"].mean() /\n",
    "    orders_cleaned[np.logical_and(orders_cleaned[\"group\"]==\"A\", np.logical_not(orders_cleaned[\"visitor_id\"].isin(abnormalUsers)))][\"revenue\"].mean() -1\n",
    "    , 3)\n",
    ")"
   ]
  },
  {
   "cell_type": "markdown",
   "metadata": {},
   "source": [
    "Con los datos filtrados (eliminando atípicos), se obtiene un p valor de  0.992, por lo que no se puede rechazar la hipótesis nula, dado que el p valor es mayor de 0.05. Esto nos dice que hay evidencia suficientes para decir que ambos grupos son similares.\n",
    "\n",
    "Por otro lado, el grupo B tiene solo un 1.6% mas de efectividad que el grupo A en cuanto a conversión."
   ]
  },
  {
   "cell_type": "code",
   "execution_count": 33,
   "metadata": {
    "scrolled": true
   },
   "outputs": [
    {
     "data": {
      "text/html": [
       "<div>\n",
       "<style scoped>\n",
       "    .dataframe tbody tr th:only-of-type {\n",
       "        vertical-align: middle;\n",
       "    }\n",
       "\n",
       "    .dataframe tbody tr th {\n",
       "        vertical-align: top;\n",
       "    }\n",
       "\n",
       "    .dataframe thead th {\n",
       "        text-align: right;\n",
       "    }\n",
       "</style>\n",
       "<table border=\"1\" class=\"dataframe\">\n",
       "  <thead>\n",
       "    <tr style=\"text-align: right;\">\n",
       "      <th></th>\n",
       "      <th>data</th>\n",
       "      <th>p_valor</th>\n",
       "      <th>relación B/A</th>\n",
       "    </tr>\n",
       "  </thead>\n",
       "  <tbody>\n",
       "    <tr>\n",
       "      <th>0</th>\n",
       "      <td>bruto</td>\n",
       "      <td>0.862</td>\n",
       "      <td>0.278</td>\n",
       "    </tr>\n",
       "    <tr>\n",
       "      <th>1</th>\n",
       "      <td>filtrada</td>\n",
       "      <td>0.992</td>\n",
       "      <td>0.016</td>\n",
       "    </tr>\n",
       "  </tbody>\n",
       "</table>\n",
       "</div>"
      ],
      "text/plain": [
       "       data  p_valor  relación B/A\n",
       "0     bruto    0.862         0.278\n",
       "1  filtrada    0.992         0.016"
      ]
     },
     "execution_count": 33,
     "metadata": {},
     "output_type": "execute_result"
    }
   ],
   "source": [
    "# Tabla comparativa de promedios\n",
    "tabla_promedios = pd.DataFrame({\n",
    "    \"data\":[\"bruto\",\"filtrada\"],\n",
    "    \"p_valor\":[0.862, 0.992],\n",
    "    \"relación B/A\":[0.278, 0.016]\n",
    "})\n",
    "tabla_promedios"
   ]
  },
  {
   "cell_type": "markdown",
   "metadata": {},
   "source": [
    "Eliminando los valores atípicos, nos damos cuenta que las muestras de tamaños de compras siguen siendo muy parecidas entre ellas, sin embargo, la relación cambió bastante, siendo el grupo B solo un 1.6% mejor que el grupo A."
   ]
  },
  {
   "cell_type": "markdown",
   "metadata": {},
   "source": [
    "<div class=\"alert alert-block alert-success\">\n",
    "<b>Comentario general (1ra Iteracion)</b> <a class=“tocSkip”></a>\n",
    "\n",
    "Perfecto! Buen trabajo filtrando los datos para calcular su significancia estadística. A veces estos datos atípicos pueden alterar las métricas calculadas causando que la prueba de hipótesis de un p-value alto\n",
    "</div>"
   ]
  },
  {
   "cell_type": "markdown",
   "metadata": {},
   "source": [
    "### Toma una decisión basada en los resultados de la prueba. Las decisiones posibles son: 1. Para la prueba, considera a uno de los grupos como líder. 2. Para la prueba, concluye que no hay diferencia entre los grupos. 3. Continúa la prueba."
   ]
  },
  {
   "cell_type": "markdown",
   "metadata": {},
   "source": [
    "Se realizarán nuevamente los gráficos iniciales, pero ahora usando la información filtrada, es decir, sin los valores atípicos."
   ]
  },
  {
   "cell_type": "code",
   "execution_count": 34,
   "metadata": {},
   "outputs": [],
   "source": [
    "orders_filtered = orders_cleaned[np.logical_not(orders_cleaned[\"visitor_id\"].isin(abnormalUsers))]"
   ]
  },
  {
   "cell_type": "code",
   "execution_count": 35,
   "metadata": {},
   "outputs": [],
   "source": [
    "# Data filtrada\n",
    "# DF con fecha y grupo\n",
    "datesGroups_filtered = orders_filtered[[\"date\",\"group\"]].drop_duplicates().reset_index(drop= True)\n",
    "\n",
    "# DF de ingresos acumulados por fecha y número\n",
    "ordersAggregated_filtered = datesGroups_filtered.apply(\n",
    "    lambda x: orders_filtered[np.logical_and(orders_filtered[\"date\"] <= x[\"date\"],\n",
    "                            orders_filtered[\"group\"] == x[\"group\"])].agg({\"date\":\"max\",\"group\":\"max\", \"transaction_id\":pd.Series.nunique, \"visitor_id\":pd.Series.nunique ,\"revenue\":\"sum\"})\n",
    ",axis = 1).sort_values(by =[\"date\",\"group\"])\n"
   ]
  },
  {
   "cell_type": "code",
   "execution_count": 36,
   "metadata": {},
   "outputs": [
    {
     "data": {
      "image/png": "[encoded data removed]",
      "text/plain": [
       "<Figure size 640x480 with 1 Axes>"
      ]
     },
     "metadata": {},
     "output_type": "display_data"
    }
   ],
   "source": [
    "# Data filtrada\n",
    "# Ingresos acumulados del grupo A\n",
    "cumulativeRevenueA_filtered = ordersAggregated_filtered[ordersAggregated_filtered[\"group\"]==\"A\"][[\"date\",\"revenue\"]]\n",
    "plt.plot(cumulativeRevenueA_filtered[\"date\"], cumulativeRevenueA_filtered[\"revenue\"], label = \"A\")\n",
    "\n",
    "# Ingresos acumulados del grupo B\n",
    "cumulativeRevenueB_filtered = ordersAggregated_filtered[ordersAggregated_filtered[\"group\"]==\"B\"][[\"date\",\"revenue\"]]\n",
    "plt.plot(cumulativeRevenueB_filtered[\"date\"], cumulativeRevenueB_filtered[\"revenue\"], label = \"B\")\n",
    "\n",
    "# Persoanlización del gráfico\n",
    "plt.gca().xaxis.set_major_formatter(mdates.DateFormatter('%Y-%m-%d'))\n",
    "plt.gca().xaxis.set_major_locator(mdates.DayLocator(interval=7))\n",
    "plt.xlabel('Date')\n",
    "plt.ylabel('Cumulative Revenue')\n",
    "plt.title('Ganancias acumuladas por grupo')\n",
    "plt.legend()\n",
    "plt.show()"
   ]
  },
  {
   "cell_type": "code",
   "execution_count": 37,
   "metadata": {},
   "outputs": [],
   "source": [
    "# Data filtrada\n",
    "# DF de ingresos acumulados por fecha y número\n",
    "ordersAggregatedMean_filtered = datesGroups_filtered.apply(\n",
    "    lambda x: orders_filtered[np.logical_and(orders_filtered[\"date\"] <= x[\"date\"],\n",
    "                            orders_filtered[\"group\"] == x[\"group\"])].agg({\"date\":\"max\",\"group\":\"max\", \"transaction_id\":pd.Series.nunique, \"visitor_id\":pd.Series.nunique ,\"revenue\":\"mean\"})\n",
    ",axis = 1).sort_values(by =[\"date\",\"group\"])"
   ]
  },
  {
   "cell_type": "code",
   "execution_count": 38,
   "metadata": {},
   "outputs": [
    {
     "data": {
      "image/png": "[encoded data removed]",
      "text/plain": [
       "<Figure size 640x480 with 1 Axes>"
      ]
     },
     "metadata": {},
     "output_type": "display_data"
    }
   ],
   "source": [
    "# Data filtrada\n",
    "# Ingresos promedio acumulados del grupo A\n",
    "cumulativeRevenueMeanA_filtered = ordersAggregatedMean_filtered[ordersAggregatedMean_filtered[\"group\"]==\"A\"][[\"date\",\"revenue\"]]\n",
    "plt.plot(cumulativeRevenueMeanA_filtered[\"date\"], cumulativeRevenueMeanA_filtered[\"revenue\"], label = \"A\")\n",
    "\n",
    "# Ingresos promedio acumulados del grupo B\n",
    "cumulativeRevenueMeanB_filtered = ordersAggregatedMean_filtered[ordersAggregatedMean_filtered[\"group\"]==\"B\"][[\"date\",\"revenue\"]]\n",
    "plt.plot(cumulativeRevenueMeanB_filtered[\"date\"], cumulativeRevenueMeanB_filtered[\"revenue\"], label = \"B\")\n",
    "\n",
    "# Persoanlización del gráfico\n",
    "plt.gca().xaxis.set_major_formatter(mdates.DateFormatter('%Y-%m-%d'))\n",
    "plt.gca().xaxis.set_major_locator(mdates.DayLocator(interval=7))\n",
    "plt.xlabel('Date')\n",
    "plt.ylabel('Cumulative Mean Revenue')\n",
    "plt.title('Tamaño de pedido promedio acumuladas por grupo')\n",
    "plt.legend()\n",
    "plt.show()"
   ]
  },
  {
   "cell_type": "code",
   "execution_count": 39,
   "metadata": {},
   "outputs": [
    {
     "data": {
      "image/png": "[encoded data removed]",
      "text/plain": [
       "<Figure size 640x480 with 1 Axes>"
      ]
     },
     "metadata": {},
     "output_type": "display_data"
    }
   ],
   "source": [
    "# Data filtrada\n",
    "\n",
    "# Unión de los df\n",
    "mergedCumulativeRevenueMean_filtered =  cumulativeRevenueMeanA_filtered.merge(cumulativeRevenueMeanB_filtered, on =\"date\", suffixes= [\"A\", \"B\"])\n",
    "\n",
    "# Gráfico\n",
    "plt.plot(mergedCumulativeRevenueMean_filtered[\"date\"], mergedCumulativeRevenueMean_filtered[\"revenueB\"]/ mergedCumulativeRevenueMean_filtered[\"revenueA\"] - 1)\n",
    "\n",
    "# Personalización del gráfico\n",
    "plt.gca().xaxis.set_major_formatter(mdates.DateFormatter('%Y-%m-%d'))\n",
    "plt.gca().xaxis.set_major_locator(mdates.DayLocator(interval=7))\n",
    "plt.xlabel('Date')\n",
    "plt.ylabel('Diferencia relativa: Promedio de ingresos B/A')\n",
    "plt.title('Ganancias promedio acumuladas')\n",
    "plt.axhline(y=0, color='black', linestyle='--')\n",
    "plt.show()"
   ]
  },
  {
   "cell_type": "markdown",
   "metadata": {},
   "source": [
    "Mi decisión final es:\n",
    "\n",
    "**Para la prueba, considera a uno de los grupos como líder.**\n",
    "\n",
    "Esto debido a que el grupo B mostró mejores resutlados en compración con el grupo A antes y después de la información filtrada.\n",
    "La diferencia relativa no es sumamente grande pero es constantemente mejor que el grupo A.\n",
    "\n",
    "Por otro lado, las significancias estadísticas no cambiaron antes y después de la eliminación de los atípicos, sin embargo, la diferencia relativa si se vió afectada, teniendo un 26% de diferencia en el tamaño promedio de compra, antes y despues de ser filtrada, sin embargo, ambas con resultados por encima del grupo A.\n",
    "\n",
    "**Por tanto, considero que hay evidencia para poder detener la prueba y considerarla como un éxito, dado que tiene mejores resultados que el grupo B.**"
   ]
  }
 ],
 "metadata": {
  "ExecuteTimeLog": [
   {
    "duration": 795,
    "start_time": "2024-07-17T20:30:09.153Z"
   },
   {
    "duration": 4,
    "start_time": "2024-07-17T20:30:14.873Z"
   },
   {
    "duration": 817,
    "start_time": "2024-07-17T20:32:47.393Z"
   },
   {
    "duration": 18,
    "start_time": "2024-07-17T20:58:49.308Z"
   },
   {
    "duration": 6,
    "start_time": "2024-07-17T20:59:14.871Z"
   },
   {
    "duration": 6,
    "start_time": "2024-07-17T21:02:25.037Z"
   },
   {
    "duration": 824,
    "start_time": "2024-07-17T21:02:27.342Z"
   },
   {
    "duration": 7,
    "start_time": "2024-07-17T21:02:29.052Z"
   },
   {
    "duration": 11,
    "start_time": "2024-07-17T21:02:32.616Z"
   },
   {
    "duration": 4,
    "start_time": "2024-07-17T21:03:37.059Z"
   },
   {
    "duration": 28,
    "start_time": "2024-07-17T21:03:43.204Z"
   },
   {
    "duration": 12,
    "start_time": "2024-07-17T21:15:58.831Z"
   },
   {
    "duration": 11,
    "start_time": "2024-07-17T21:15:59.202Z"
   },
   {
    "duration": 14,
    "start_time": "2024-07-17T21:16:03.161Z"
   },
   {
    "duration": 11,
    "start_time": "2024-07-17T21:16:03.855Z"
   },
   {
    "duration": 12,
    "start_time": "2024-07-17T21:16:04.472Z"
   },
   {
    "duration": 13,
    "start_time": "2024-07-17T21:16:05.030Z"
   },
   {
    "duration": 8,
    "start_time": "2024-07-17T21:36:14.564Z"
   },
   {
    "duration": 13,
    "start_time": "2024-07-17T21:38:34.225Z"
   },
   {
    "duration": 4,
    "start_time": "2024-07-17T21:38:47.440Z"
   },
   {
    "duration": 23,
    "start_time": "2024-07-17T21:38:58.568Z"
   },
   {
    "duration": 79,
    "start_time": "2024-07-17T21:39:30.730Z"
   },
   {
    "duration": 56,
    "start_time": "2024-07-17T22:13:59.794Z"
   },
   {
    "duration": 316,
    "start_time": "2024-07-17T22:23:08.463Z"
   },
   {
    "duration": 56,
    "start_time": "2024-07-17T22:23:16.993Z"
   },
   {
    "duration": 327,
    "start_time": "2024-07-17T22:25:12.361Z"
   },
   {
    "duration": 317,
    "start_time": "2024-07-17T22:25:13.221Z"
   },
   {
    "duration": 46,
    "start_time": "2024-07-17T22:25:18.263Z"
   },
   {
    "duration": 332,
    "start_time": "2024-07-18T01:01:41.614Z"
   },
   {
    "duration": 476,
    "start_time": "2024-07-18T01:02:07.371Z"
   },
   {
    "duration": 842,
    "start_time": "2024-07-18T01:02:09.370Z"
   },
   {
    "duration": 18,
    "start_time": "2024-07-18T01:02:10.216Z"
   },
   {
    "duration": 67,
    "start_time": "2024-07-18T01:02:10.237Z"
   },
   {
    "duration": 309,
    "start_time": "2024-07-18T01:02:10.327Z"
   },
   {
    "duration": 38,
    "start_time": "2024-07-18T01:02:10.640Z"
   },
   {
    "duration": 30,
    "start_time": "2024-07-18T01:02:10.682Z"
   },
   {
    "duration": 17,
    "start_time": "2024-07-18T01:09:33.737Z"
   },
   {
    "duration": 22,
    "start_time": "2024-07-18T01:09:38.314Z"
   },
   {
    "duration": 21,
    "start_time": "2024-07-18T01:10:07.240Z"
   },
   {
    "duration": 5,
    "start_time": "2024-07-18T01:10:14.095Z"
   },
   {
    "duration": 33,
    "start_time": "2024-07-18T01:11:45.050Z"
   },
   {
    "duration": 7,
    "start_time": "2024-07-18T01:13:35.401Z"
   },
   {
    "duration": 7,
    "start_time": "2024-07-18T01:13:56.155Z"
   },
   {
    "duration": 260,
    "start_time": "2024-07-18T01:14:13.366Z"
   },
   {
    "duration": 17,
    "start_time": "2024-07-18T01:14:23.281Z"
   },
   {
    "duration": 18,
    "start_time": "2024-07-18T01:19:42.391Z"
   },
   {
    "duration": 21,
    "start_time": "2024-07-18T01:20:29.942Z"
   },
   {
    "duration": 6,
    "start_time": "2024-07-18T01:22:28.510Z"
   },
   {
    "duration": 886,
    "start_time": "2024-07-18T01:23:17.208Z"
   },
   {
    "duration": 10,
    "start_time": "2024-07-18T01:23:52.169Z"
   },
   {
    "duration": 12,
    "start_time": "2024-07-18T01:24:08.599Z"
   },
   {
    "duration": 9,
    "start_time": "2024-07-18T01:24:52.631Z"
   },
   {
    "duration": 8,
    "start_time": "2024-07-18T01:25:05.654Z"
   },
   {
    "duration": 6,
    "start_time": "2024-07-18T01:28:54.029Z"
   },
   {
    "duration": 10,
    "start_time": "2024-07-18T01:29:36.740Z"
   },
   {
    "duration": 474,
    "start_time": "2024-07-18T21:42:03.251Z"
   },
   {
    "duration": 884,
    "start_time": "2024-07-18T21:42:03.729Z"
   },
   {
    "duration": 20,
    "start_time": "2024-07-18T21:42:04.616Z"
   },
   {
    "duration": 47,
    "start_time": "2024-07-18T21:42:04.639Z"
   },
   {
    "duration": 317,
    "start_time": "2024-07-18T21:42:04.689Z"
   },
   {
    "duration": 14,
    "start_time": "2024-07-18T21:42:05.009Z"
   },
   {
    "duration": 7,
    "start_time": "2024-07-18T21:42:05.026Z"
   },
   {
    "duration": 43,
    "start_time": "2024-07-18T21:42:05.036Z"
   },
   {
    "duration": 246,
    "start_time": "2024-07-18T21:42:05.082Z"
   },
   {
    "duration": 15,
    "start_time": "2024-07-18T21:42:05.332Z"
   },
   {
    "duration": 11,
    "start_time": "2024-07-18T21:42:05.351Z"
   },
   {
    "duration": 11,
    "start_time": "2024-07-18T21:42:05.366Z"
   },
   {
    "duration": 9,
    "start_time": "2024-07-18T21:42:05.380Z"
   },
   {
    "duration": 9,
    "start_time": "2024-07-18T21:42:05.392Z"
   },
   {
    "duration": 19,
    "start_time": "2024-07-18T21:42:59.952Z"
   },
   {
    "duration": 30,
    "start_time": "2024-07-18T21:44:40.076Z"
   },
   {
    "duration": 24,
    "start_time": "2024-07-18T21:45:10.916Z"
   },
   {
    "duration": 25,
    "start_time": "2024-07-18T21:55:47.113Z"
   },
   {
    "duration": 14,
    "start_time": "2024-07-18T21:56:19.090Z"
   },
   {
    "duration": 14,
    "start_time": "2024-07-18T21:56:28.426Z"
   },
   {
    "duration": 14,
    "start_time": "2024-07-18T21:56:41.499Z"
   },
   {
    "duration": 7,
    "start_time": "2024-07-18T21:57:03.417Z"
   },
   {
    "duration": 136,
    "start_time": "2024-07-18T21:57:20.801Z"
   },
   {
    "duration": 10,
    "start_time": "2024-07-18T21:57:29.162Z"
   },
   {
    "duration": 15,
    "start_time": "2024-07-18T21:57:40.286Z"
   },
   {
    "duration": 19,
    "start_time": "2024-07-18T21:58:38.988Z"
   },
   {
    "duration": 19,
    "start_time": "2024-07-18T22:00:51.412Z"
   },
   {
    "duration": 17,
    "start_time": "2024-07-18T22:01:07.055Z"
   },
   {
    "duration": 19,
    "start_time": "2024-07-18T22:01:28.214Z"
   },
   {
    "duration": 15,
    "start_time": "2024-07-18T22:01:51.772Z"
   },
   {
    "duration": 22,
    "start_time": "2024-07-18T22:01:56.145Z"
   },
   {
    "duration": 859,
    "start_time": "2024-07-18T22:02:52.792Z"
   },
   {
    "duration": 10,
    "start_time": "2024-07-18T22:02:58.263Z"
   },
   {
    "duration": 18,
    "start_time": "2024-07-18T22:03:16.471Z"
   },
   {
    "duration": 157,
    "start_time": "2024-07-18T22:03:24.266Z"
   },
   {
    "duration": 11,
    "start_time": "2024-07-18T22:03:52.328Z"
   },
   {
    "duration": 16,
    "start_time": "2024-07-18T22:13:41.369Z"
   },
   {
    "duration": 9,
    "start_time": "2024-07-18T22:13:48.502Z"
   },
   {
    "duration": 6,
    "start_time": "2024-07-18T22:14:16.239Z"
   },
   {
    "duration": 11,
    "start_time": "2024-07-18T22:14:18.810Z"
   },
   {
    "duration": 8,
    "start_time": "2024-07-18T22:14:30.120Z"
   },
   {
    "duration": 9,
    "start_time": "2024-07-18T22:14:33.540Z"
   },
   {
    "duration": 9,
    "start_time": "2024-07-18T22:14:41.594Z"
   },
   {
    "duration": 14,
    "start_time": "2024-07-18T22:17:39.284Z"
   },
   {
    "duration": 8,
    "start_time": "2024-07-18T22:18:27.551Z"
   },
   {
    "duration": 16,
    "start_time": "2024-07-18T22:18:31.902Z"
   },
   {
    "duration": 18,
    "start_time": "2024-07-18T22:19:20.970Z"
   },
   {
    "duration": 17,
    "start_time": "2024-07-18T22:20:16.508Z"
   },
   {
    "duration": 19,
    "start_time": "2024-07-18T22:20:18.272Z"
   },
   {
    "duration": 306,
    "start_time": "2024-07-19T01:56:45.464Z"
   },
   {
    "duration": 492,
    "start_time": "2024-07-19T01:56:51.528Z"
   },
   {
    "duration": 818,
    "start_time": "2024-07-19T01:56:52.024Z"
   },
   {
    "duration": 18,
    "start_time": "2024-07-19T01:56:52.846Z"
   },
   {
    "duration": 43,
    "start_time": "2024-07-19T01:56:52.867Z"
   },
   {
    "duration": 301,
    "start_time": "2024-07-19T01:56:52.933Z"
   },
   {
    "duration": 18,
    "start_time": "2024-07-19T01:56:53.236Z"
   },
   {
    "duration": 7,
    "start_time": "2024-07-19T01:56:53.258Z"
   },
   {
    "duration": 36,
    "start_time": "2024-07-19T01:56:53.622Z"
   },
   {
    "duration": 245,
    "start_time": "2024-07-19T01:56:54.235Z"
   },
   {
    "duration": 15,
    "start_time": "2024-07-19T01:56:54.484Z"
   },
   {
    "duration": 12,
    "start_time": "2024-07-19T01:56:55.904Z"
   },
   {
    "duration": 11,
    "start_time": "2024-07-19T01:56:56.158Z"
   },
   {
    "duration": 17,
    "start_time": "2024-07-19T01:59:05.309Z"
   },
   {
    "duration": 16,
    "start_time": "2024-07-19T02:00:05.213Z"
   },
   {
    "duration": 18,
    "start_time": "2024-07-19T02:00:08.780Z"
   },
   {
    "duration": 7,
    "start_time": "2024-07-19T02:00:17.212Z"
   },
   {
    "duration": 7,
    "start_time": "2024-07-19T02:05:19.535Z"
   },
   {
    "duration": 7,
    "start_time": "2024-07-19T02:06:02.092Z"
   },
   {
    "duration": 8,
    "start_time": "2024-07-19T02:06:48.081Z"
   },
   {
    "duration": 20,
    "start_time": "2024-07-19T02:11:13.805Z"
   },
   {
    "duration": 5,
    "start_time": "2024-07-19T02:14:09.495Z"
   },
   {
    "duration": 20,
    "start_time": "2024-07-19T02:14:13.252Z"
   },
   {
    "duration": 7,
    "start_time": "2024-07-19T02:14:41.277Z"
   },
   {
    "duration": 15,
    "start_time": "2024-07-19T02:14:42.937Z"
   },
   {
    "duration": 8,
    "start_time": "2024-07-19T02:14:59.243Z"
   },
   {
    "duration": 23,
    "start_time": "2024-07-19T02:15:10.291Z"
   },
   {
    "duration": 18,
    "start_time": "2024-07-19T02:20:00.974Z"
   },
   {
    "duration": 11,
    "start_time": "2024-07-19T02:20:31.792Z"
   },
   {
    "duration": 15,
    "start_time": "2024-07-19T02:21:05.143Z"
   },
   {
    "duration": 14,
    "start_time": "2024-07-19T02:21:12.886Z"
   },
   {
    "duration": 18,
    "start_time": "2024-07-19T02:21:21.833Z"
   },
   {
    "duration": 13,
    "start_time": "2024-07-19T02:21:30.075Z"
   },
   {
    "duration": 10,
    "start_time": "2024-07-19T02:24:49.428Z"
   },
   {
    "duration": 23,
    "start_time": "2024-07-19T02:27:30.377Z"
   },
   {
    "duration": 16,
    "start_time": "2024-07-19T02:28:18.567Z"
   },
   {
    "duration": 21,
    "start_time": "2024-07-19T02:29:48.700Z"
   },
   {
    "duration": 28,
    "start_time": "2024-07-19T02:30:12.026Z"
   },
   {
    "duration": 18,
    "start_time": "2024-07-19T03:16:44.792Z"
   },
   {
    "duration": 451,
    "start_time": "2024-07-19T19:14:24.608Z"
   },
   {
    "duration": 470,
    "start_time": "2024-07-19T19:14:32.270Z"
   },
   {
    "duration": 835,
    "start_time": "2024-07-19T19:14:32.744Z"
   },
   {
    "duration": 21,
    "start_time": "2024-07-19T19:14:33.583Z"
   },
   {
    "duration": 63,
    "start_time": "2024-07-19T19:14:33.611Z"
   },
   {
    "duration": 321,
    "start_time": "2024-07-19T19:14:33.678Z"
   },
   {
    "duration": 16,
    "start_time": "2024-07-19T19:14:34.003Z"
   },
   {
    "duration": 7,
    "start_time": "2024-07-19T19:14:34.022Z"
   },
   {
    "duration": 82,
    "start_time": "2024-07-19T19:14:34.034Z"
   },
   {
    "duration": 253,
    "start_time": "2024-07-19T19:14:34.121Z"
   },
   {
    "duration": 19,
    "start_time": "2024-07-19T19:14:34.379Z"
   },
   {
    "duration": 39,
    "start_time": "2024-07-19T19:14:34.409Z"
   },
   {
    "duration": 22,
    "start_time": "2024-07-19T19:14:34.452Z"
   },
   {
    "duration": 43,
    "start_time": "2024-07-19T19:14:34.477Z"
   },
   {
    "duration": 20,
    "start_time": "2024-07-19T19:14:34.530Z"
   },
   {
    "duration": 27,
    "start_time": "2024-07-19T19:15:18.116Z"
   },
   {
    "duration": 14,
    "start_time": "2024-07-19T19:15:24.470Z"
   },
   {
    "duration": 25,
    "start_time": "2024-07-19T19:15:38.733Z"
   },
   {
    "duration": 7,
    "start_time": "2024-07-19T19:15:43.813Z"
   },
   {
    "duration": 27,
    "start_time": "2024-07-19T19:16:02.734Z"
   },
   {
    "duration": 20,
    "start_time": "2024-07-19T19:16:05.667Z"
   },
   {
    "duration": 6,
    "start_time": "2024-07-19T19:16:54.841Z"
   },
   {
    "duration": 23,
    "start_time": "2024-07-19T19:17:03.863Z"
   },
   {
    "duration": 999,
    "start_time": "2024-07-19T19:26:53.169Z"
   },
   {
    "duration": 5,
    "start_time": "2024-07-19T19:26:59.089Z"
   },
   {
    "duration": 6,
    "start_time": "2024-07-19T19:27:08.869Z"
   },
   {
    "duration": 11,
    "start_time": "2024-07-19T19:45:49.860Z"
   },
   {
    "duration": 19,
    "start_time": "2024-07-19T19:46:03.947Z"
   },
   {
    "duration": 18,
    "start_time": "2024-07-19T19:46:42.716Z"
   },
   {
    "duration": 21,
    "start_time": "2024-07-19T19:50:17.138Z"
   },
   {
    "duration": 6,
    "start_time": "2024-07-19T19:50:45.145Z"
   },
   {
    "duration": 5,
    "start_time": "2024-07-19T19:50:57.545Z"
   },
   {
    "duration": 5,
    "start_time": "2024-07-19T20:10:49.589Z"
   },
   {
    "duration": 25,
    "start_time": "2024-07-19T20:10:54.256Z"
   },
   {
    "duration": 23,
    "start_time": "2024-07-19T20:11:12.148Z"
   },
   {
    "duration": 17,
    "start_time": "2024-07-19T20:11:17.528Z"
   },
   {
    "duration": 19,
    "start_time": "2024-07-19T20:11:20.686Z"
   },
   {
    "duration": 21,
    "start_time": "2024-07-19T20:24:15.052Z"
   },
   {
    "duration": 859,
    "start_time": "2024-07-19T20:26:02.868Z"
   },
   {
    "duration": 143,
    "start_time": "2024-07-19T20:27:36.594Z"
   },
   {
    "duration": 137,
    "start_time": "2024-07-19T20:50:25.669Z"
   },
   {
    "duration": 504,
    "start_time": "2024-07-19T20:50:38.188Z"
   },
   {
    "duration": 798,
    "start_time": "2024-07-19T20:50:38.697Z"
   },
   {
    "duration": 21,
    "start_time": "2024-07-19T20:50:39.498Z"
   },
   {
    "duration": 79,
    "start_time": "2024-07-19T20:50:39.524Z"
   },
   {
    "duration": 296,
    "start_time": "2024-07-19T20:50:39.607Z"
   },
   {
    "duration": 17,
    "start_time": "2024-07-19T20:50:39.906Z"
   },
   {
    "duration": 6,
    "start_time": "2024-07-19T20:50:39.926Z"
   },
   {
    "duration": 73,
    "start_time": "2024-07-19T20:50:39.936Z"
   },
   {
    "duration": 288,
    "start_time": "2024-07-19T20:50:40.013Z"
   },
   {
    "duration": 15,
    "start_time": "2024-07-19T20:50:40.305Z"
   },
   {
    "duration": 25,
    "start_time": "2024-07-19T20:50:40.323Z"
   },
   {
    "duration": 53,
    "start_time": "2024-07-19T20:50:40.351Z"
   },
   {
    "duration": 18,
    "start_time": "2024-07-19T20:50:40.407Z"
   },
   {
    "duration": 22,
    "start_time": "2024-07-19T20:50:40.428Z"
   },
   {
    "duration": 61,
    "start_time": "2024-07-19T20:50:40.453Z"
   },
   {
    "duration": 7,
    "start_time": "2024-07-19T20:50:40.518Z"
   },
   {
    "duration": 0,
    "start_time": "2024-07-19T20:50:40.529Z"
   },
   {
    "duration": 0,
    "start_time": "2024-07-19T20:50:40.531Z"
   },
   {
    "duration": 0,
    "start_time": "2024-07-19T20:50:40.534Z"
   },
   {
    "duration": 1,
    "start_time": "2024-07-19T20:50:40.536Z"
   },
   {
    "duration": 0,
    "start_time": "2024-07-19T20:50:40.539Z"
   },
   {
    "duration": 3,
    "start_time": "2024-07-19T20:50:55.462Z"
   },
   {
    "duration": 5,
    "start_time": "2024-07-19T20:50:56.005Z"
   },
   {
    "duration": 3,
    "start_time": "2024-07-19T20:50:57.052Z"
   },
   {
    "duration": 20,
    "start_time": "2024-07-19T20:50:57.642Z"
   },
   {
    "duration": 7,
    "start_time": "2024-07-19T20:50:58.572Z"
   },
   {
    "duration": 20,
    "start_time": "2024-07-19T20:50:59.289Z"
   },
   {
    "duration": 1501,
    "start_time": "2024-07-19T20:51:01.223Z"
   },
   {
    "duration": 20,
    "start_time": "2024-07-19T20:54:10.035Z"
   },
   {
    "duration": 16,
    "start_time": "2024-07-19T20:54:40.600Z"
   },
   {
    "duration": 14,
    "start_time": "2024-07-19T20:54:42.433Z"
   },
   {
    "duration": 115,
    "start_time": "2024-07-19T20:57:45.760Z"
   },
   {
    "duration": 380,
    "start_time": "2024-07-19T20:58:06.685Z"
   },
   {
    "duration": 373,
    "start_time": "2024-07-19T20:58:19.866Z"
   },
   {
    "duration": 370,
    "start_time": "2024-07-19T20:58:47.033Z"
   },
   {
    "duration": 28,
    "start_time": "2024-07-19T21:04:26.784Z"
   },
   {
    "duration": 22,
    "start_time": "2024-07-19T21:04:30.582Z"
   },
   {
    "duration": 26,
    "start_time": "2024-07-19T21:05:22.305Z"
   },
   {
    "duration": 101,
    "start_time": "2024-07-19T21:05:39.672Z"
   },
   {
    "duration": 35,
    "start_time": "2024-07-19T21:05:43.683Z"
   },
   {
    "duration": 3899,
    "start_time": "2024-07-19T21:06:12.204Z"
   },
   {
    "duration": 264,
    "start_time": "2024-07-19T21:06:16.115Z"
   },
   {
    "duration": 260,
    "start_time": "2024-07-19T21:07:15.604Z"
   },
   {
    "duration": 299,
    "start_time": "2024-07-19T21:07:42.517Z"
   },
   {
    "duration": 302,
    "start_time": "2024-07-19T21:09:45.013Z"
   },
   {
    "duration": 4,
    "start_time": "2024-07-19T21:10:11.300Z"
   },
   {
    "duration": 350,
    "start_time": "2024-07-19T21:10:15.202Z"
   },
   {
    "duration": 264,
    "start_time": "2024-07-19T21:10:20.592Z"
   },
   {
    "duration": 281,
    "start_time": "2024-07-19T21:10:58.161Z"
   },
   {
    "duration": 232,
    "start_time": "2024-07-19T21:11:02.934Z"
   },
   {
    "duration": 237,
    "start_time": "2024-07-19T21:11:21.330Z"
   },
   {
    "duration": 242,
    "start_time": "2024-07-19T21:11:26.011Z"
   },
   {
    "duration": 279,
    "start_time": "2024-07-19T21:12:32.877Z"
   },
   {
    "duration": 235,
    "start_time": "2024-07-19T21:12:47.509Z"
   },
   {
    "duration": 255,
    "start_time": "2024-07-19T21:13:23.485Z"
   },
   {
    "duration": 248,
    "start_time": "2024-07-19T21:13:28.373Z"
   },
   {
    "duration": 252,
    "start_time": "2024-07-19T21:13:56.590Z"
   },
   {
    "duration": 6,
    "start_time": "2024-07-19T21:14:29.238Z"
   },
   {
    "duration": 5,
    "start_time": "2024-07-19T21:15:43.228Z"
   },
   {
    "duration": 280,
    "start_time": "2024-07-19T21:15:45.894Z"
   },
   {
    "duration": 280,
    "start_time": "2024-07-19T21:16:05.927Z"
   },
   {
    "duration": 25,
    "start_time": "2024-07-19T21:16:10.598Z"
   },
   {
    "duration": 4,
    "start_time": "2024-07-19T21:16:18.790Z"
   },
   {
    "duration": 299,
    "start_time": "2024-07-19T21:16:24.488Z"
   },
   {
    "duration": 741,
    "start_time": "2024-07-19T21:16:34.507Z"
   },
   {
    "duration": 859,
    "start_time": "2024-07-19T21:16:35.252Z"
   },
   {
    "duration": 20,
    "start_time": "2024-07-19T21:16:36.116Z"
   },
   {
    "duration": 81,
    "start_time": "2024-07-19T21:16:36.140Z"
   },
   {
    "duration": 308,
    "start_time": "2024-07-19T21:16:36.227Z"
   },
   {
    "duration": 21,
    "start_time": "2024-07-19T21:16:36.539Z"
   },
   {
    "duration": 6,
    "start_time": "2024-07-19T21:16:36.564Z"
   },
   {
    "duration": 51,
    "start_time": "2024-07-19T21:16:36.575Z"
   },
   {
    "duration": 262,
    "start_time": "2024-07-19T21:16:36.633Z"
   },
   {
    "duration": 23,
    "start_time": "2024-07-19T21:16:36.899Z"
   },
   {
    "duration": 27,
    "start_time": "2024-07-19T21:16:36.926Z"
   },
   {
    "duration": 55,
    "start_time": "2024-07-19T21:16:36.957Z"
   },
   {
    "duration": 23,
    "start_time": "2024-07-19T21:16:37.015Z"
   },
   {
    "duration": 420,
    "start_time": "2024-07-19T21:16:37.045Z"
   },
   {
    "duration": 0,
    "start_time": "2024-07-19T21:16:37.479Z"
   },
   {
    "duration": 33,
    "start_time": "2024-07-19T21:17:38.529Z"
   },
   {
    "duration": 47,
    "start_time": "2024-07-19T21:17:48.835Z"
   },
   {
    "duration": 8,
    "start_time": "2024-07-19T21:18:03.597Z"
   },
   {
    "duration": 45,
    "start_time": "2024-07-19T21:18:07.065Z"
   },
   {
    "duration": 540,
    "start_time": "2024-07-19T21:18:22.354Z"
   },
   {
    "duration": 434,
    "start_time": "2024-07-19T21:18:26.396Z"
   },
   {
    "duration": 346,
    "start_time": "2024-07-19T22:58:06.603Z"
   },
   {
    "duration": 4506,
    "start_time": "2024-07-19T22:58:13.841Z"
   },
   {
    "duration": 830,
    "start_time": "2024-07-19T22:58:18.351Z"
   },
   {
    "duration": 18,
    "start_time": "2024-07-19T22:58:19.184Z"
   },
   {
    "duration": 54,
    "start_time": "2024-07-19T22:58:19.208Z"
   },
   {
    "duration": 322,
    "start_time": "2024-07-19T22:58:19.265Z"
   },
   {
    "duration": 16,
    "start_time": "2024-07-19T22:58:19.589Z"
   },
   {
    "duration": 5,
    "start_time": "2024-07-19T22:58:19.609Z"
   },
   {
    "duration": 37,
    "start_time": "2024-07-19T22:58:19.618Z"
   },
   {
    "duration": 264,
    "start_time": "2024-07-19T22:58:19.658Z"
   },
   {
    "duration": 16,
    "start_time": "2024-07-19T22:58:19.926Z"
   },
   {
    "duration": 25,
    "start_time": "2024-07-19T22:58:19.944Z"
   },
   {
    "duration": 33,
    "start_time": "2024-07-19T22:58:19.972Z"
   },
   {
    "duration": 18,
    "start_time": "2024-07-19T22:58:20.009Z"
   },
   {
    "duration": 361,
    "start_time": "2024-07-19T22:58:20.030Z"
   },
   {
    "duration": 276,
    "start_time": "2024-07-19T22:58:20.394Z"
   },
   {
    "duration": 26,
    "start_time": "2024-07-19T23:02:29.593Z"
   },
   {
    "duration": 357,
    "start_time": "2024-07-19T23:04:11.752Z"
   },
   {
    "duration": 332,
    "start_time": "2024-07-19T23:08:58.233Z"
   },
   {
    "duration": 271,
    "start_time": "2024-07-19T23:10:35.911Z"
   },
   {
    "duration": 276,
    "start_time": "2024-07-19T23:16:52.293Z"
   },
   {
    "duration": 269,
    "start_time": "2024-07-19T23:16:54.538Z"
   },
   {
    "duration": 354,
    "start_time": "2024-07-19T23:17:06.945Z"
   },
   {
    "duration": 311,
    "start_time": "2024-07-19T23:17:08.007Z"
   },
   {
    "duration": 276,
    "start_time": "2024-07-19T23:17:10.442Z"
   },
   {
    "duration": 21,
    "start_time": "2024-07-19T23:19:45.379Z"
   },
   {
    "duration": 23,
    "start_time": "2024-07-19T23:28:29.495Z"
   },
   {
    "duration": 22,
    "start_time": "2024-07-19T23:30:01.611Z"
   },
   {
    "duration": 23,
    "start_time": "2024-07-19T23:30:48.093Z"
   },
   {
    "duration": 24,
    "start_time": "2024-07-19T23:31:05.056Z"
   },
   {
    "duration": 26,
    "start_time": "2024-07-19T23:31:15.955Z"
   },
   {
    "duration": 9,
    "start_time": "2024-07-19T23:31:35.859Z"
   },
   {
    "duration": 9,
    "start_time": "2024-07-19T23:31:45.709Z"
   },
   {
    "duration": 24,
    "start_time": "2024-07-19T23:31:55.355Z"
   },
   {
    "duration": 10,
    "start_time": "2024-07-19T23:32:05.663Z"
   },
   {
    "duration": 13,
    "start_time": "2024-07-19T23:32:20.899Z"
   },
   {
    "duration": 13,
    "start_time": "2024-07-19T23:58:02.058Z"
   },
   {
    "duration": 8,
    "start_time": "2024-07-19T23:58:23.574Z"
   },
   {
    "duration": 12,
    "start_time": "2024-07-19T23:58:28.489Z"
   },
   {
    "duration": 14,
    "start_time": "2024-07-19T23:58:32.521Z"
   },
   {
    "duration": 9,
    "start_time": "2024-07-19T23:58:54.495Z"
   },
   {
    "duration": 16,
    "start_time": "2024-07-19T23:58:56.761Z"
   },
   {
    "duration": 12,
    "start_time": "2024-07-19T23:59:13.523Z"
   },
   {
    "duration": 223,
    "start_time": "2024-07-20T00:00:59.881Z"
   },
   {
    "duration": 198,
    "start_time": "2024-07-20T00:01:10.126Z"
   },
   {
    "duration": 245,
    "start_time": "2024-07-20T00:01:15.084Z"
   },
   {
    "duration": 252,
    "start_time": "2024-07-20T00:01:19.441Z"
   },
   {
    "duration": 342,
    "start_time": "2024-07-20T00:01:35.194Z"
   },
   {
    "duration": 15,
    "start_time": "2024-07-20T00:28:53.166Z"
   },
   {
    "duration": 14,
    "start_time": "2024-07-20T00:30:30.962Z"
   },
   {
    "duration": 447,
    "start_time": "2024-07-21T20:44:26.634Z"
   },
   {
    "duration": 4673,
    "start_time": "2024-07-21T20:44:32.393Z"
   },
   {
    "duration": 919,
    "start_time": "2024-07-21T20:44:37.071Z"
   },
   {
    "duration": 18,
    "start_time": "2024-07-21T20:44:37.995Z"
   },
   {
    "duration": 57,
    "start_time": "2024-07-21T20:44:38.017Z"
   },
   {
    "duration": 319,
    "start_time": "2024-07-21T20:44:38.077Z"
   },
   {
    "duration": 14,
    "start_time": "2024-07-21T20:44:38.400Z"
   },
   {
    "duration": 5,
    "start_time": "2024-07-21T20:44:38.418Z"
   },
   {
    "duration": 45,
    "start_time": "2024-07-21T20:44:38.427Z"
   },
   {
    "duration": 260,
    "start_time": "2024-07-21T20:44:38.475Z"
   },
   {
    "duration": 16,
    "start_time": "2024-07-21T20:44:38.741Z"
   },
   {
    "duration": 30,
    "start_time": "2024-07-21T20:44:38.760Z"
   },
   {
    "duration": 19,
    "start_time": "2024-07-21T20:44:38.795Z"
   },
   {
    "duration": 19,
    "start_time": "2024-07-21T20:44:38.817Z"
   },
   {
    "duration": 307,
    "start_time": "2024-07-21T20:44:38.838Z"
   },
   {
    "duration": 315,
    "start_time": "2024-07-21T20:44:39.148Z"
   },
   {
    "duration": 272,
    "start_time": "2024-07-21T20:44:39.469Z"
   },
   {
    "duration": 244,
    "start_time": "2024-07-21T20:44:39.744Z"
   },
   {
    "duration": 310,
    "start_time": "2024-07-21T20:44:39.992Z"
   },
   {
    "duration": 15,
    "start_time": "2024-07-21T20:44:40.306Z"
   },
   {
    "duration": 18,
    "start_time": "2024-07-21T20:45:36.258Z"
   },
   {
    "duration": 18,
    "start_time": "2024-07-21T20:45:49.533Z"
   },
   {
    "duration": 26,
    "start_time": "2024-07-21T20:46:56.340Z"
   },
   {
    "duration": 31,
    "start_time": "2024-07-21T20:47:48.349Z"
   },
   {
    "duration": 25,
    "start_time": "2024-07-21T20:48:20.387Z"
   },
   {
    "duration": 27,
    "start_time": "2024-07-21T20:48:51.656Z"
   },
   {
    "duration": 22,
    "start_time": "2024-07-21T20:50:04.207Z"
   },
   {
    "duration": 15,
    "start_time": "2024-07-21T20:50:12.955Z"
   },
   {
    "duration": 13,
    "start_time": "2024-07-21T20:59:23.435Z"
   },
   {
    "duration": 25,
    "start_time": "2024-07-21T20:59:52.832Z"
   },
   {
    "duration": 9,
    "start_time": "2024-07-21T21:00:12.424Z"
   },
   {
    "duration": 1371,
    "start_time": "2024-07-21T21:02:18.396Z"
   },
   {
    "duration": 86,
    "start_time": "2024-07-21T21:02:32.615Z"
   },
   {
    "duration": 38,
    "start_time": "2024-07-21T21:02:35.539Z"
   },
   {
    "duration": 25,
    "start_time": "2024-07-21T21:02:57.953Z"
   },
   {
    "duration": 31,
    "start_time": "2024-07-21T21:03:17.386Z"
   },
   {
    "duration": 26,
    "start_time": "2024-07-21T21:04:18.824Z"
   },
   {
    "duration": 235,
    "start_time": "2024-07-21T21:05:30.237Z"
   },
   {
    "duration": 258,
    "start_time": "2024-07-21T21:05:56.003Z"
   },
   {
    "duration": 227,
    "start_time": "2024-07-21T21:06:47.131Z"
   },
   {
    "duration": 10,
    "start_time": "2024-07-21T21:16:01.409Z"
   },
   {
    "duration": 20,
    "start_time": "2024-07-21T21:16:30.742Z"
   },
   {
    "duration": 28,
    "start_time": "2024-07-21T21:19:26.181Z"
   },
   {
    "duration": 18,
    "start_time": "2024-07-21T21:19:32.540Z"
   },
   {
    "duration": 74,
    "start_time": "2024-07-21T21:21:31.585Z"
   },
   {
    "duration": 67,
    "start_time": "2024-07-21T21:22:43.041Z"
   },
   {
    "duration": 58,
    "start_time": "2024-07-21T21:23:28.656Z"
   },
   {
    "duration": 54,
    "start_time": "2024-07-21T21:23:40.027Z"
   },
   {
    "duration": 63,
    "start_time": "2024-07-21T21:25:16.730Z"
   },
   {
    "duration": 23,
    "start_time": "2024-07-21T21:25:54.033Z"
   },
   {
    "duration": 56,
    "start_time": "2024-07-21T21:27:29.210Z"
   },
   {
    "duration": 27,
    "start_time": "2024-07-21T21:27:32.849Z"
   },
   {
    "duration": 27,
    "start_time": "2024-07-21T21:28:21.497Z"
   },
   {
    "duration": 27,
    "start_time": "2024-07-21T21:28:24.827Z"
   },
   {
    "duration": 31,
    "start_time": "2024-07-21T21:28:27.731Z"
   },
   {
    "duration": 278,
    "start_time": "2024-07-21T21:28:56.298Z"
   },
   {
    "duration": 51,
    "start_time": "2024-07-21T21:29:37.083Z"
   },
   {
    "duration": 50,
    "start_time": "2024-07-21T21:30:35.461Z"
   },
   {
    "duration": 276,
    "start_time": "2024-07-21T21:31:40.176Z"
   },
   {
    "duration": 30,
    "start_time": "2024-07-21T22:01:58.499Z"
   },
   {
    "duration": 288,
    "start_time": "2024-07-21T22:04:53.765Z"
   },
   {
    "duration": 21,
    "start_time": "2024-07-21T22:05:04.292Z"
   },
   {
    "duration": 29,
    "start_time": "2024-07-21T22:05:23.210Z"
   },
   {
    "duration": 50,
    "start_time": "2024-07-21T22:06:07.512Z"
   },
   {
    "duration": 24,
    "start_time": "2024-07-21T22:06:10.821Z"
   },
   {
    "duration": 7,
    "start_time": "2024-07-21T22:06:34.818Z"
   },
   {
    "duration": 25,
    "start_time": "2024-07-21T22:07:07.068Z"
   },
   {
    "duration": 30,
    "start_time": "2024-07-21T22:07:28.203Z"
   },
   {
    "duration": 673,
    "start_time": "2024-07-21T22:07:40.136Z"
   },
   {
    "duration": 860,
    "start_time": "2024-07-21T22:07:40.813Z"
   },
   {
    "duration": 16,
    "start_time": "2024-07-21T22:07:41.677Z"
   },
   {
    "duration": 74,
    "start_time": "2024-07-21T22:07:41.696Z"
   },
   {
    "duration": 299,
    "start_time": "2024-07-21T22:07:41.774Z"
   },
   {
    "duration": 19,
    "start_time": "2024-07-21T22:07:42.076Z"
   },
   {
    "duration": 6,
    "start_time": "2024-07-21T22:07:42.098Z"
   },
   {
    "duration": 69,
    "start_time": "2024-07-21T22:07:42.108Z"
   },
   {
    "duration": 243,
    "start_time": "2024-07-21T22:07:42.184Z"
   },
   {
    "duration": 15,
    "start_time": "2024-07-21T22:07:42.431Z"
   },
   {
    "duration": 31,
    "start_time": "2024-07-21T22:07:42.449Z"
   },
   {
    "duration": 21,
    "start_time": "2024-07-21T22:07:42.482Z"
   },
   {
    "duration": 21,
    "start_time": "2024-07-21T22:07:42.507Z"
   },
   {
    "duration": 313,
    "start_time": "2024-07-21T22:07:42.534Z"
   },
   {
    "duration": 351,
    "start_time": "2024-07-21T22:07:42.850Z"
   },
   {
    "duration": 274,
    "start_time": "2024-07-21T22:07:43.204Z"
   },
   {
    "duration": 260,
    "start_time": "2024-07-21T22:07:43.485Z"
   },
   {
    "duration": 350,
    "start_time": "2024-07-21T22:07:43.748Z"
   },
   {
    "duration": 306,
    "start_time": "2024-07-21T22:07:44.102Z"
   },
   {
    "duration": 31,
    "start_time": "2024-07-21T22:07:44.411Z"
   },
   {
    "duration": 283,
    "start_time": "2024-07-21T22:09:48.514Z"
   },
   {
    "duration": 25,
    "start_time": "2024-07-21T22:09:56.307Z"
   },
   {
    "duration": 25,
    "start_time": "2024-07-21T22:10:04.962Z"
   },
   {
    "duration": 27,
    "start_time": "2024-07-21T22:10:05.666Z"
   },
   {
    "duration": 25,
    "start_time": "2024-07-21T22:10:06.290Z"
   },
   {
    "duration": 27,
    "start_time": "2024-07-21T22:10:06.785Z"
   },
   {
    "duration": 281,
    "start_time": "2024-07-21T22:12:33.058Z"
   },
   {
    "duration": 275,
    "start_time": "2024-07-21T22:12:34.305Z"
   },
   {
    "duration": 780,
    "start_time": "2024-07-21T22:12:53.536Z"
   },
   {
    "duration": 897,
    "start_time": "2024-07-21T22:12:54.322Z"
   },
   {
    "duration": 21,
    "start_time": "2024-07-21T22:12:55.225Z"
   },
   {
    "duration": 74,
    "start_time": "2024-07-21T22:12:55.251Z"
   },
   {
    "duration": 310,
    "start_time": "2024-07-21T22:12:55.330Z"
   },
   {
    "duration": 15,
    "start_time": "2024-07-21T22:12:55.643Z"
   },
   {
    "duration": 5,
    "start_time": "2024-07-21T22:12:55.661Z"
   },
   {
    "duration": 38,
    "start_time": "2024-07-21T22:12:55.669Z"
   },
   {
    "duration": 270,
    "start_time": "2024-07-21T22:12:55.710Z"
   },
   {
    "duration": 15,
    "start_time": "2024-07-21T22:12:55.982Z"
   },
   {
    "duration": 26,
    "start_time": "2024-07-21T22:12:56.000Z"
   },
   {
    "duration": 50,
    "start_time": "2024-07-21T22:12:56.030Z"
   },
   {
    "duration": 21,
    "start_time": "2024-07-21T22:12:56.087Z"
   },
   {
    "duration": 343,
    "start_time": "2024-07-21T22:12:56.114Z"
   },
   {
    "duration": 278,
    "start_time": "2024-07-21T22:12:56.468Z"
   },
   {
    "duration": 294,
    "start_time": "2024-07-21T22:12:56.749Z"
   },
   {
    "duration": 247,
    "start_time": "2024-07-21T22:12:57.048Z"
   },
   {
    "duration": 323,
    "start_time": "2024-07-21T22:12:57.298Z"
   },
   {
    "duration": 352,
    "start_time": "2024-07-21T22:12:57.624Z"
   },
   {
    "duration": 4,
    "start_time": "2024-07-21T22:12:57.979Z"
   },
   {
    "duration": 25,
    "start_time": "2024-07-21T22:13:15.456Z"
   },
   {
    "duration": 8,
    "start_time": "2024-07-21T22:13:41.212Z"
   },
   {
    "duration": 284,
    "start_time": "2024-07-21T22:14:33.623Z"
   },
   {
    "duration": 244,
    "start_time": "2024-07-21T22:14:40.008Z"
   },
   {
    "duration": 229,
    "start_time": "2024-07-21T22:15:08.716Z"
   },
   {
    "duration": 21,
    "start_time": "2024-07-21T22:29:11.855Z"
   },
   {
    "duration": 964,
    "start_time": "2024-07-21T22:32:36.334Z"
   },
   {
    "duration": 25,
    "start_time": "2024-07-21T22:32:46.091Z"
   },
   {
    "duration": 314,
    "start_time": "2024-07-21T22:32:54.459Z"
   },
   {
    "duration": 21,
    "start_time": "2024-07-21T22:32:59.774Z"
   },
   {
    "duration": 382,
    "start_time": "2024-07-21T22:33:27.692Z"
   },
   {
    "duration": 27,
    "start_time": "2024-07-21T22:33:32.329Z"
   },
   {
    "duration": 303,
    "start_time": "2024-07-21T22:33:47.947Z"
   },
   {
    "duration": 717,
    "start_time": "2024-07-21T22:34:04.683Z"
   },
   {
    "duration": 900,
    "start_time": "2024-07-21T22:34:05.404Z"
   },
   {
    "duration": 19,
    "start_time": "2024-07-21T22:34:06.307Z"
   },
   {
    "duration": 57,
    "start_time": "2024-07-21T22:34:06.328Z"
   },
   {
    "duration": 322,
    "start_time": "2024-07-21T22:34:06.390Z"
   },
   {
    "duration": 15,
    "start_time": "2024-07-21T22:34:06.715Z"
   },
   {
    "duration": 5,
    "start_time": "2024-07-21T22:34:06.733Z"
   },
   {
    "duration": 41,
    "start_time": "2024-07-21T22:34:06.742Z"
   },
   {
    "duration": 230,
    "start_time": "2024-07-21T22:34:06.786Z"
   },
   {
    "duration": 16,
    "start_time": "2024-07-21T22:34:07.019Z"
   },
   {
    "duration": 30,
    "start_time": "2024-07-21T22:34:07.038Z"
   },
   {
    "duration": 18,
    "start_time": "2024-07-21T22:34:07.075Z"
   },
   {
    "duration": 18,
    "start_time": "2024-07-21T22:34:07.095Z"
   },
   {
    "duration": 338,
    "start_time": "2024-07-21T22:34:07.120Z"
   },
   {
    "duration": 295,
    "start_time": "2024-07-21T22:34:07.467Z"
   },
   {
    "duration": 313,
    "start_time": "2024-07-21T22:34:07.769Z"
   },
   {
    "duration": 255,
    "start_time": "2024-07-21T22:34:08.087Z"
   },
   {
    "duration": 348,
    "start_time": "2024-07-21T22:34:08.345Z"
   },
   {
    "duration": 344,
    "start_time": "2024-07-21T22:34:08.696Z"
   },
   {
    "duration": 4,
    "start_time": "2024-07-21T22:34:09.043Z"
   },
   {
    "duration": 365,
    "start_time": "2024-07-21T22:34:09.050Z"
   },
   {
    "duration": 0,
    "start_time": "2024-07-21T22:34:09.419Z"
   },
   {
    "duration": 300,
    "start_time": "2024-07-21T22:34:24.006Z"
   },
   {
    "duration": 23,
    "start_time": "2024-07-21T22:34:35.751Z"
   },
   {
    "duration": 27,
    "start_time": "2024-07-21T22:35:10.919Z"
   },
   {
    "duration": 295,
    "start_time": "2024-07-21T22:35:23.289Z"
   },
   {
    "duration": 25,
    "start_time": "2024-07-21T22:35:28.865Z"
   },
   {
    "duration": 21,
    "start_time": "2024-07-21T22:35:35.984Z"
   },
   {
    "duration": 332,
    "start_time": "2024-07-21T22:35:44.218Z"
   },
   {
    "duration": 787,
    "start_time": "2024-07-21T22:35:49.343Z"
   },
   {
    "duration": 15,
    "start_time": "2024-07-21T22:36:36.390Z"
   },
   {
    "duration": 20,
    "start_time": "2024-07-21T22:37:21.088Z"
   },
   {
    "duration": 17,
    "start_time": "2024-07-21T22:37:39.353Z"
   },
   {
    "duration": 263,
    "start_time": "2024-07-21T22:38:38.995Z"
   },
   {
    "duration": 285,
    "start_time": "2024-07-21T22:38:42.489Z"
   },
   {
    "duration": 403,
    "start_time": "2024-07-21T22:38:48.403Z"
   },
   {
    "duration": 284,
    "start_time": "2024-07-21T22:38:49.405Z"
   },
   {
    "duration": 328,
    "start_time": "2024-07-21T22:38:51.978Z"
   },
   {
    "duration": 282,
    "start_time": "2024-07-21T22:38:56.652Z"
   },
   {
    "duration": 118,
    "start_time": "2024-07-21T22:39:02.923Z"
   },
   {
    "duration": 21,
    "start_time": "2024-07-21T22:39:10.666Z"
   },
   {
    "duration": 17,
    "start_time": "2024-07-21T22:39:32.253Z"
   },
   {
    "duration": 20,
    "start_time": "2024-07-21T22:40:15.240Z"
   },
   {
    "duration": 17,
    "start_time": "2024-07-21T22:40:23.994Z"
   },
   {
    "duration": 115,
    "start_time": "2024-07-21T22:40:29.532Z"
   },
   {
    "duration": 310,
    "start_time": "2024-07-21T22:43:22.305Z"
   },
   {
    "duration": 330,
    "start_time": "2024-07-21T22:43:24.310Z"
   },
   {
    "duration": 16,
    "start_time": "2024-07-21T22:43:30.023Z"
   },
   {
    "duration": 315,
    "start_time": "2024-07-21T22:43:40.499Z"
   },
   {
    "duration": 303,
    "start_time": "2024-07-21T22:43:40.817Z"
   },
   {
    "duration": 322,
    "start_time": "2024-07-21T22:43:41.123Z"
   },
   {
    "duration": 281,
    "start_time": "2024-07-21T22:43:41.460Z"
   },
   {
    "duration": 290,
    "start_time": "2024-07-21T22:43:42.398Z"
   },
   {
    "duration": 314,
    "start_time": "2024-07-21T22:43:43.902Z"
   },
   {
    "duration": 4,
    "start_time": "2024-07-21T22:43:44.302Z"
   },
   {
    "duration": 21,
    "start_time": "2024-07-21T22:43:48.798Z"
   },
   {
    "duration": 127,
    "start_time": "2024-07-21T22:43:50.465Z"
   },
   {
    "duration": 25,
    "start_time": "2024-07-21T22:43:55.145Z"
   },
   {
    "duration": 25,
    "start_time": "2024-07-21T22:43:55.363Z"
   },
   {
    "duration": 29,
    "start_time": "2024-07-21T22:44:40.957Z"
   },
   {
    "duration": 22,
    "start_time": "2024-07-21T22:44:46.853Z"
   },
   {
    "duration": 15,
    "start_time": "2024-07-21T22:45:00.485Z"
   },
   {
    "duration": 166,
    "start_time": "2024-07-21T22:45:07.349Z"
   },
   {
    "duration": 21,
    "start_time": "2024-07-21T22:46:19.794Z"
   },
   {
    "duration": 8,
    "start_time": "2024-07-21T22:47:26.658Z"
   },
   {
    "duration": 141,
    "start_time": "2024-07-21T22:47:34.480Z"
   },
   {
    "duration": 373,
    "start_time": "2024-07-21T22:48:08.281Z"
   },
   {
    "duration": 128,
    "start_time": "2024-07-21T22:49:09.368Z"
   },
   {
    "duration": 124,
    "start_time": "2024-07-21T22:49:53.002Z"
   },
   {
    "duration": 25,
    "start_time": "2024-07-21T22:50:06.619Z"
   },
   {
    "duration": 20,
    "start_time": "2024-07-21T22:50:22.822Z"
   },
   {
    "duration": 87,
    "start_time": "2024-07-21T22:50:38.202Z"
   },
   {
    "duration": 25,
    "start_time": "2024-07-21T22:51:13.634Z"
   },
   {
    "duration": 313,
    "start_time": "2024-07-21T22:51:19.923Z"
   },
   {
    "duration": 7,
    "start_time": "2024-07-21T22:51:20.240Z"
   },
   {
    "duration": 24,
    "start_time": "2024-07-21T22:51:20.584Z"
   },
   {
    "duration": 83,
    "start_time": "2024-07-21T22:51:20.757Z"
   },
   {
    "duration": 15,
    "start_time": "2024-07-21T22:51:20.956Z"
   },
   {
    "duration": 23,
    "start_time": "2024-07-21T22:51:21.153Z"
   },
   {
    "duration": 20,
    "start_time": "2024-07-21T22:51:21.329Z"
   },
   {
    "duration": 81,
    "start_time": "2024-07-21T22:51:31.571Z"
   },
   {
    "duration": 414,
    "start_time": "2024-07-21T22:51:46.090Z"
   },
   {
    "duration": 17,
    "start_time": "2024-07-21T22:52:59.098Z"
   },
   {
    "duration": 271,
    "start_time": "2024-07-21T22:53:42.540Z"
   },
   {
    "duration": 261,
    "start_time": "2024-07-21T22:54:25.811Z"
   },
   {
    "duration": 228,
    "start_time": "2024-07-21T22:55:19.376Z"
   },
   {
    "duration": 434,
    "start_time": "2024-07-21T22:56:44.381Z"
   },
   {
    "duration": 437,
    "start_time": "2024-07-21T22:57:51.200Z"
   },
   {
    "duration": 22,
    "start_time": "2024-07-21T22:58:00.923Z"
   },
   {
    "duration": 455,
    "start_time": "2024-07-21T22:58:21.534Z"
   },
   {
    "duration": 236,
    "start_time": "2024-07-21T22:58:36.313Z"
   },
   {
    "duration": 543,
    "start_time": "2024-07-21T23:00:30.840Z"
   },
   {
    "duration": 303,
    "start_time": "2024-07-22T18:21:14.113Z"
   },
   {
    "duration": 4448,
    "start_time": "2024-07-22T18:21:19.064Z"
   },
   {
    "duration": 850,
    "start_time": "2024-07-22T18:21:23.516Z"
   },
   {
    "duration": 18,
    "start_time": "2024-07-22T18:21:24.368Z"
   },
   {
    "duration": 50,
    "start_time": "2024-07-22T18:21:24.389Z"
   },
   {
    "duration": 318,
    "start_time": "2024-07-22T18:21:24.443Z"
   },
   {
    "duration": 20,
    "start_time": "2024-07-22T18:21:24.764Z"
   },
   {
    "duration": 8,
    "start_time": "2024-07-22T18:21:24.789Z"
   },
   {
    "duration": 44,
    "start_time": "2024-07-22T18:21:24.802Z"
   },
   {
    "duration": 298,
    "start_time": "2024-07-22T18:21:24.849Z"
   },
   {
    "duration": 16,
    "start_time": "2024-07-22T18:21:25.149Z"
   },
   {
    "duration": 28,
    "start_time": "2024-07-22T18:21:25.167Z"
   },
   {
    "duration": 18,
    "start_time": "2024-07-22T18:21:25.197Z"
   },
   {
    "duration": 18,
    "start_time": "2024-07-22T18:21:25.218Z"
   },
   {
    "duration": 306,
    "start_time": "2024-07-22T18:21:25.243Z"
   },
   {
    "duration": 294,
    "start_time": "2024-07-22T18:21:25.552Z"
   },
   {
    "duration": 325,
    "start_time": "2024-07-22T18:21:25.849Z"
   },
   {
    "duration": 249,
    "start_time": "2024-07-22T18:21:26.176Z"
   },
   {
    "duration": 301,
    "start_time": "2024-07-22T18:21:26.428Z"
   },
   {
    "duration": 331,
    "start_time": "2024-07-22T18:21:26.732Z"
   },
   {
    "duration": 449,
    "start_time": "2024-07-22T18:21:27.066Z"
   },
   {
    "duration": 19,
    "start_time": "2024-07-22T18:21:27.519Z"
   },
   {
    "duration": 356,
    "start_time": "2024-07-22T18:26:59.736Z"
   },
   {
    "duration": 215,
    "start_time": "2024-07-22T18:28:33.139Z"
   },
   {
    "duration": 213,
    "start_time": "2024-07-22T18:31:44.335Z"
   },
   {
    "duration": 209,
    "start_time": "2024-07-22T18:31:49.489Z"
   },
   {
    "duration": 282,
    "start_time": "2024-07-22T18:34:56.045Z"
   },
   {
    "duration": 19,
    "start_time": "2024-07-22T18:37:42.882Z"
   },
   {
    "duration": 23,
    "start_time": "2024-07-22T18:38:39.358Z"
   },
   {
    "duration": 19,
    "start_time": "2024-07-22T18:38:47.365Z"
   },
   {
    "duration": 7,
    "start_time": "2024-07-22T18:39:58.720Z"
   },
   {
    "duration": 17,
    "start_time": "2024-07-22T18:40:54.097Z"
   },
   {
    "duration": 19,
    "start_time": "2024-07-22T18:41:15.920Z"
   },
   {
    "duration": 17,
    "start_time": "2024-07-22T18:44:58.157Z"
   },
   {
    "duration": 19,
    "start_time": "2024-07-22T18:45:37.351Z"
   },
   {
    "duration": 17,
    "start_time": "2024-07-22T18:45:54.103Z"
   },
   {
    "duration": 14,
    "start_time": "2024-07-22T18:46:08.233Z"
   },
   {
    "duration": 13,
    "start_time": "2024-07-22T18:46:45.720Z"
   },
   {
    "duration": 13,
    "start_time": "2024-07-22T18:46:53.469Z"
   },
   {
    "duration": 13,
    "start_time": "2024-07-22T18:46:58.181Z"
   },
   {
    "duration": 13,
    "start_time": "2024-07-22T18:47:02.838Z"
   },
   {
    "duration": 14,
    "start_time": "2024-07-22T18:47:54.903Z"
   },
   {
    "duration": 18,
    "start_time": "2024-07-22T18:50:35.101Z"
   },
   {
    "duration": 7,
    "start_time": "2024-07-22T18:51:18.192Z"
   },
   {
    "duration": 19,
    "start_time": "2024-07-22T18:51:34.851Z"
   },
   {
    "duration": 13,
    "start_time": "2024-07-22T18:51:46.931Z"
   },
   {
    "duration": 14,
    "start_time": "2024-07-22T18:52:13.256Z"
   },
   {
    "duration": 17,
    "start_time": "2024-07-22T18:52:14.747Z"
   },
   {
    "duration": 13,
    "start_time": "2024-07-22T18:55:36.183Z"
   },
   {
    "duration": 17,
    "start_time": "2024-07-22T18:55:47.629Z"
   },
   {
    "duration": 19,
    "start_time": "2024-07-22T19:08:34.301Z"
   },
   {
    "duration": 14,
    "start_time": "2024-07-22T19:08:59.161Z"
   },
   {
    "duration": 10,
    "start_time": "2024-07-22T19:09:06.764Z"
   },
   {
    "duration": 13,
    "start_time": "2024-07-22T19:09:11.983Z"
   },
   {
    "duration": 10,
    "start_time": "2024-07-22T19:09:16.955Z"
   },
   {
    "duration": 18,
    "start_time": "2024-07-22T19:11:13.135Z"
   },
   {
    "duration": 41,
    "start_time": "2024-07-22T19:11:32.744Z"
   },
   {
    "duration": 218,
    "start_time": "2024-07-22T19:11:38.494Z"
   },
   {
    "duration": 9,
    "start_time": "2024-07-22T19:11:46.216Z"
   },
   {
    "duration": 195,
    "start_time": "2024-07-22T19:11:55.864Z"
   },
   {
    "duration": 221,
    "start_time": "2024-07-22T19:13:10.739Z"
   },
   {
    "duration": 13,
    "start_time": "2024-07-22T19:30:36.304Z"
   },
   {
    "duration": 30,
    "start_time": "2024-07-22T19:35:20.761Z"
   },
   {
    "duration": 7,
    "start_time": "2024-07-22T19:35:55.264Z"
   },
   {
    "duration": 6,
    "start_time": "2024-07-22T19:36:13.540Z"
   },
   {
    "duration": 5,
    "start_time": "2024-07-22T19:36:48.182Z"
   },
   {
    "duration": 6,
    "start_time": "2024-07-22T19:37:17.452Z"
   },
   {
    "duration": 6,
    "start_time": "2024-07-22T19:37:32.136Z"
   },
   {
    "duration": 6,
    "start_time": "2024-07-22T19:37:35.998Z"
   },
   {
    "duration": 6,
    "start_time": "2024-07-22T19:37:48.814Z"
   },
   {
    "duration": 5,
    "start_time": "2024-07-22T19:37:57.447Z"
   },
   {
    "duration": 6,
    "start_time": "2024-07-22T19:38:09.124Z"
   },
   {
    "duration": 6,
    "start_time": "2024-07-22T19:38:33.045Z"
   },
   {
    "duration": 56,
    "start_time": "2024-07-22T19:38:37.443Z"
   },
   {
    "duration": 43,
    "start_time": "2024-07-22T19:38:41.071Z"
   },
   {
    "duration": 22,
    "start_time": "2024-07-22T19:38:50.366Z"
   },
   {
    "duration": 6,
    "start_time": "2024-07-22T19:40:02.485Z"
   },
   {
    "duration": 7,
    "start_time": "2024-07-22T19:41:29.286Z"
   },
   {
    "duration": 13,
    "start_time": "2024-07-22T19:41:59.511Z"
   },
   {
    "duration": 8,
    "start_time": "2024-07-22T19:42:38.832Z"
   },
   {
    "duration": 5,
    "start_time": "2024-07-22T19:43:30.477Z"
   },
   {
    "duration": 6,
    "start_time": "2024-07-22T19:43:36.501Z"
   },
   {
    "duration": 7,
    "start_time": "2024-07-22T19:43:53.272Z"
   },
   {
    "duration": 28,
    "start_time": "2024-07-22T19:47:50.084Z"
   },
   {
    "duration": 451,
    "start_time": "2024-07-22T19:47:56.189Z"
   },
   {
    "duration": 6,
    "start_time": "2024-07-22T19:48:06.927Z"
   },
   {
    "duration": 6,
    "start_time": "2024-07-22T19:48:08.874Z"
   },
   {
    "duration": 7,
    "start_time": "2024-07-22T19:48:10.814Z"
   },
   {
    "duration": 8,
    "start_time": "2024-07-22T19:48:15.756Z"
   },
   {
    "duration": 408,
    "start_time": "2024-07-22T19:48:27.600Z"
   },
   {
    "duration": 6,
    "start_time": "2024-07-22T19:48:31.241Z"
   },
   {
    "duration": 6,
    "start_time": "2024-07-22T19:48:33.534Z"
   },
   {
    "duration": 7,
    "start_time": "2024-07-22T19:48:35.223Z"
   },
   {
    "duration": 7,
    "start_time": "2024-07-22T19:48:36.819Z"
   },
   {
    "duration": 422,
    "start_time": "2024-07-22T19:48:55.300Z"
   },
   {
    "duration": 6,
    "start_time": "2024-07-22T19:49:04.912Z"
   },
   {
    "duration": 6,
    "start_time": "2024-07-22T19:49:06.771Z"
   },
   {
    "duration": 7,
    "start_time": "2024-07-22T19:49:08.922Z"
   },
   {
    "duration": 7,
    "start_time": "2024-07-22T19:49:10.763Z"
   },
   {
    "duration": 8,
    "start_time": "2024-07-22T19:51:36.387Z"
   },
   {
    "duration": 6,
    "start_time": "2024-07-22T19:51:51.764Z"
   },
   {
    "duration": 193,
    "start_time": "2024-07-22T20:01:26.304Z"
   },
   {
    "duration": 194,
    "start_time": "2024-07-22T20:01:31.470Z"
   },
   {
    "duration": 428,
    "start_time": "2024-07-22T20:01:41.710Z"
   },
   {
    "duration": 392,
    "start_time": "2024-07-22T20:02:33.702Z"
   },
   {
    "duration": 6,
    "start_time": "2024-07-22T20:05:15.184Z"
   },
   {
    "duration": 20,
    "start_time": "2024-07-22T20:29:46.451Z"
   },
   {
    "duration": 21,
    "start_time": "2024-07-22T20:29:53.918Z"
   },
   {
    "duration": 8,
    "start_time": "2024-07-22T20:35:43.741Z"
   },
   {
    "duration": 6,
    "start_time": "2024-07-22T20:35:59.534Z"
   },
   {
    "duration": 34,
    "start_time": "2024-07-22T20:36:53.310Z"
   },
   {
    "duration": 119,
    "start_time": "2024-07-22T20:37:15.185Z"
   },
   {
    "duration": 27,
    "start_time": "2024-07-22T20:38:50.104Z"
   },
   {
    "duration": 9,
    "start_time": "2024-07-22T20:39:41.857Z"
   },
   {
    "duration": 10,
    "start_time": "2024-07-22T20:39:48.562Z"
   },
   {
    "duration": 20,
    "start_time": "2024-07-22T20:40:21.298Z"
   },
   {
    "duration": 9,
    "start_time": "2024-07-22T20:51:47.581Z"
   },
   {
    "duration": 8,
    "start_time": "2024-07-22T20:51:56.236Z"
   },
   {
    "duration": 474,
    "start_time": "2024-07-22T20:53:11.862Z"
   },
   {
    "duration": 33,
    "start_time": "2024-07-22T20:54:00.121Z"
   },
   {
    "duration": 36,
    "start_time": "2024-07-22T20:55:02.693Z"
   },
   {
    "duration": 1187,
    "start_time": "2024-07-22T21:54:42.879Z"
   },
   {
    "duration": 840,
    "start_time": "2024-07-22T21:54:44.070Z"
   },
   {
    "duration": 16,
    "start_time": "2024-07-22T21:54:44.914Z"
   },
   {
    "duration": 58,
    "start_time": "2024-07-22T21:54:44.934Z"
   },
   {
    "duration": 325,
    "start_time": "2024-07-22T21:54:44.996Z"
   },
   {
    "duration": 16,
    "start_time": "2024-07-22T21:54:45.323Z"
   },
   {
    "duration": 4,
    "start_time": "2024-07-22T21:54:45.342Z"
   },
   {
    "duration": 46,
    "start_time": "2024-07-22T21:54:45.349Z"
   },
   {
    "duration": 228,
    "start_time": "2024-07-22T21:54:45.397Z"
   },
   {
    "duration": 14,
    "start_time": "2024-07-22T21:54:45.631Z"
   },
   {
    "duration": 26,
    "start_time": "2024-07-22T21:54:45.648Z"
   },
   {
    "duration": 22,
    "start_time": "2024-07-22T21:54:45.677Z"
   },
   {
    "duration": 19,
    "start_time": "2024-07-22T21:54:45.701Z"
   },
   {
    "duration": 291,
    "start_time": "2024-07-22T21:54:45.724Z"
   },
   {
    "duration": 272,
    "start_time": "2024-07-22T21:54:46.018Z"
   },
   {
    "duration": 268,
    "start_time": "2024-07-22T21:54:46.292Z"
   },
   {
    "duration": 248,
    "start_time": "2024-07-22T21:54:46.563Z"
   },
   {
    "duration": 313,
    "start_time": "2024-07-22T21:54:46.814Z"
   },
   {
    "duration": 309,
    "start_time": "2024-07-22T21:54:47.130Z"
   },
   {
    "duration": 515,
    "start_time": "2024-07-22T21:54:47.442Z"
   },
   {
    "duration": 464,
    "start_time": "2024-07-22T21:54:47.960Z"
   },
   {
    "duration": 6,
    "start_time": "2024-07-22T21:54:48.427Z"
   },
   {
    "duration": 235,
    "start_time": "2024-07-22T21:54:48.437Z"
   },
   {
    "duration": 400,
    "start_time": "2024-07-22T21:54:48.675Z"
   },
   {
    "duration": 14,
    "start_time": "2024-07-22T21:54:49.077Z"
   },
   {
    "duration": 34,
    "start_time": "2024-07-22T21:54:49.094Z"
   },
   {
    "duration": 8,
    "start_time": "2024-07-22T21:59:09.959Z"
   },
   {
    "duration": 27,
    "start_time": "2024-07-22T21:59:26.856Z"
   },
   {
    "duration": 20,
    "start_time": "2024-07-22T21:59:45.716Z"
   },
   {
    "duration": 5,
    "start_time": "2024-07-22T22:00:49.575Z"
   },
   {
    "duration": 7,
    "start_time": "2024-07-22T22:01:02.886Z"
   },
   {
    "duration": 5,
    "start_time": "2024-07-22T22:01:16.981Z"
   },
   {
    "duration": 5,
    "start_time": "2024-07-22T22:01:20.251Z"
   },
   {
    "duration": 8,
    "start_time": "2024-07-22T22:01:24.595Z"
   },
   {
    "duration": 4760,
    "start_time": "2024-07-22T23:53:01.074Z"
   },
   {
    "duration": 867,
    "start_time": "2024-07-22T23:53:05.839Z"
   },
   {
    "duration": 17,
    "start_time": "2024-07-22T23:53:06.709Z"
   },
   {
    "duration": 77,
    "start_time": "2024-07-22T23:53:06.731Z"
   },
   {
    "duration": 302,
    "start_time": "2024-07-22T23:53:06.812Z"
   },
   {
    "duration": 16,
    "start_time": "2024-07-22T23:53:07.116Z"
   },
   {
    "duration": 4,
    "start_time": "2024-07-22T23:53:07.135Z"
   },
   {
    "duration": 67,
    "start_time": "2024-07-22T23:53:07.142Z"
   },
   {
    "duration": 267,
    "start_time": "2024-07-22T23:53:07.212Z"
   },
   {
    "duration": 13,
    "start_time": "2024-07-22T23:53:07.485Z"
   },
   {
    "duration": 26,
    "start_time": "2024-07-22T23:53:07.501Z"
   },
   {
    "duration": 17,
    "start_time": "2024-07-22T23:53:07.530Z"
   },
   {
    "duration": 18,
    "start_time": "2024-07-22T23:53:07.550Z"
   },
   {
    "duration": 304,
    "start_time": "2024-07-22T23:53:07.572Z"
   },
   {
    "duration": 273,
    "start_time": "2024-07-22T23:53:07.879Z"
   },
   {
    "duration": 271,
    "start_time": "2024-07-22T23:53:08.155Z"
   },
   {
    "duration": 245,
    "start_time": "2024-07-22T23:53:08.429Z"
   },
   {
    "duration": 365,
    "start_time": "2024-07-22T23:53:08.677Z"
   },
   {
    "duration": 324,
    "start_time": "2024-07-22T23:53:09.045Z"
   },
   {
    "duration": 444,
    "start_time": "2024-07-22T23:53:09.373Z"
   },
   {
    "duration": 465,
    "start_time": "2024-07-22T23:53:09.821Z"
   },
   {
    "duration": 6,
    "start_time": "2024-07-22T23:53:10.289Z"
   },
   {
    "duration": 227,
    "start_time": "2024-07-22T23:53:10.310Z"
   },
   {
    "duration": 467,
    "start_time": "2024-07-22T23:53:10.541Z"
   },
   {
    "duration": 8,
    "start_time": "2024-07-22T23:53:11.011Z"
   },
   {
    "duration": 34,
    "start_time": "2024-07-22T23:53:11.023Z"
   },
   {
    "duration": 51,
    "start_time": "2024-07-22T23:53:11.060Z"
   },
   {
    "duration": 6,
    "start_time": "2024-07-22T23:53:11.118Z"
   },
   {
    "duration": 7,
    "start_time": "2024-07-22T23:53:11.127Z"
   },
   {
    "duration": 6,
    "start_time": "2024-07-22T23:53:11.137Z"
   },
   {
    "duration": 7,
    "start_time": "2024-07-22T23:53:11.147Z"
   },
   {
    "duration": 132,
    "start_time": "2024-07-22T23:55:18.550Z"
   },
   {
    "duration": 141,
    "start_time": "2024-07-22T23:55:46.252Z"
   },
   {
    "duration": 7,
    "start_time": "2024-07-22T23:56:19.882Z"
   },
   {
    "duration": 525,
    "start_time": "2024-07-22T23:56:48.934Z"
   },
   {
    "duration": 129,
    "start_time": "2024-07-22T23:56:52.558Z"
   },
   {
    "duration": 145,
    "start_time": "2024-07-22T23:56:57.286Z"
   },
   {
    "duration": 27,
    "start_time": "2024-07-23T00:07:00.676Z"
   },
   {
    "duration": 4927,
    "start_time": "2024-07-23T01:12:15.988Z"
   },
   {
    "duration": 889,
    "start_time": "2024-07-23T01:12:20.919Z"
   },
   {
    "duration": 18,
    "start_time": "2024-07-23T01:12:21.810Z"
   },
   {
    "duration": 62,
    "start_time": "2024-07-23T01:12:21.834Z"
   },
   {
    "duration": 306,
    "start_time": "2024-07-23T01:12:21.898Z"
   },
   {
    "duration": 17,
    "start_time": "2024-07-23T01:12:22.208Z"
   },
   {
    "duration": 5,
    "start_time": "2024-07-23T01:12:22.230Z"
   },
   {
    "duration": 76,
    "start_time": "2024-07-23T01:12:22.239Z"
   },
   {
    "duration": 253,
    "start_time": "2024-07-23T01:12:22.319Z"
   },
   {
    "duration": 21,
    "start_time": "2024-07-23T01:12:22.578Z"
   },
   {
    "duration": 29,
    "start_time": "2024-07-23T01:12:22.604Z"
   },
   {
    "duration": 21,
    "start_time": "2024-07-23T01:12:22.637Z"
   },
   {
    "duration": 48,
    "start_time": "2024-07-23T01:12:22.661Z"
   },
   {
    "duration": 319,
    "start_time": "2024-07-23T01:12:22.713Z"
   },
   {
    "duration": 315,
    "start_time": "2024-07-23T01:12:23.035Z"
   },
   {
    "duration": 375,
    "start_time": "2024-07-23T01:12:23.356Z"
   },
   {
    "duration": 268,
    "start_time": "2024-07-23T01:12:23.737Z"
   },
   {
    "duration": 385,
    "start_time": "2024-07-23T01:12:24.028Z"
   },
   {
    "duration": 334,
    "start_time": "2024-07-23T01:12:24.418Z"
   },
   {
    "duration": 554,
    "start_time": "2024-07-23T01:12:24.756Z"
   },
   {
    "duration": 499,
    "start_time": "2024-07-23T01:12:25.314Z"
   },
   {
    "duration": 8,
    "start_time": "2024-07-23T01:12:25.816Z"
   },
   {
    "duration": 280,
    "start_time": "2024-07-23T01:12:25.828Z"
   },
   {
    "duration": 431,
    "start_time": "2024-07-23T01:12:26.111Z"
   },
   {
    "duration": 7,
    "start_time": "2024-07-23T01:12:26.546Z"
   },
   {
    "duration": 62,
    "start_time": "2024-07-23T01:12:26.556Z"
   },
   {
    "duration": 25,
    "start_time": "2024-07-23T01:12:26.622Z"
   },
   {
    "duration": 7,
    "start_time": "2024-07-23T01:12:26.658Z"
   },
   {
    "duration": 8,
    "start_time": "2024-07-23T01:12:26.692Z"
   },
   {
    "duration": 6,
    "start_time": "2024-07-23T01:12:26.703Z"
   },
   {
    "duration": 8,
    "start_time": "2024-07-23T01:12:26.712Z"
   },
   {
    "duration": 13,
    "start_time": "2024-07-23T01:12:26.723Z"
   },
   {
    "duration": 168,
    "start_time": "2024-07-23T01:12:26.790Z"
   },
   {
    "duration": 168,
    "start_time": "2024-07-23T01:12:26.962Z"
   },
   {
    "duration": 517,
    "start_time": "2024-07-23T01:12:27.134Z"
   },
   {
    "duration": 0,
    "start_time": "2024-07-23T01:12:27.655Z"
   },
   {
    "duration": 13,
    "start_time": "2024-07-23T01:18:52.819Z"
   },
   {
    "duration": 19,
    "start_time": "2024-07-23T01:19:30.350Z"
   },
   {
    "duration": 24,
    "start_time": "2024-07-23T01:19:50.951Z"
   },
   {
    "duration": 17,
    "start_time": "2024-07-23T01:19:52.901Z"
   },
   {
    "duration": 13,
    "start_time": "2024-07-23T01:20:41.812Z"
   },
   {
    "duration": 12,
    "start_time": "2024-07-23T01:21:01.432Z"
   },
   {
    "duration": 8,
    "start_time": "2024-07-23T01:21:46.742Z"
   },
   {
    "duration": 11,
    "start_time": "2024-07-23T01:32:03.534Z"
   },
   {
    "duration": 11,
    "start_time": "2024-07-23T01:32:57.472Z"
   },
   {
    "duration": 11,
    "start_time": "2024-07-23T01:33:01.336Z"
   },
   {
    "duration": 8,
    "start_time": "2024-07-23T01:33:53.245Z"
   },
   {
    "duration": 189,
    "start_time": "2024-07-23T01:33:58.969Z"
   },
   {
    "duration": 25,
    "start_time": "2024-07-23T01:35:56.311Z"
   },
   {
    "duration": 32,
    "start_time": "2024-07-23T01:36:12.489Z"
   },
   {
    "duration": 32,
    "start_time": "2024-07-23T01:37:11.063Z"
   },
   {
    "duration": 32,
    "start_time": "2024-07-23T01:37:28.534Z"
   },
   {
    "duration": 31,
    "start_time": "2024-07-23T01:38:14.888Z"
   },
   {
    "duration": 109,
    "start_time": "2024-07-23T01:45:21.431Z"
   },
   {
    "duration": 121,
    "start_time": "2024-07-23T01:45:34.420Z"
   },
   {
    "duration": 125,
    "start_time": "2024-07-23T01:45:36.977Z"
   },
   {
    "duration": 8,
    "start_time": "2024-07-23T01:46:08.518Z"
   },
   {
    "duration": 7,
    "start_time": "2024-07-23T01:46:10.395Z"
   },
   {
    "duration": 7,
    "start_time": "2024-07-23T01:47:03.960Z"
   },
   {
    "duration": 266,
    "start_time": "2024-07-23T01:47:59.447Z"
   },
   {
    "duration": 12,
    "start_time": "2024-07-23T01:50:09.867Z"
   },
   {
    "duration": 10,
    "start_time": "2024-07-23T01:50:22.873Z"
   },
   {
    "duration": 281,
    "start_time": "2024-07-23T01:51:15.394Z"
   },
   {
    "duration": 20,
    "start_time": "2024-07-23T02:00:28.751Z"
   },
   {
    "duration": 23,
    "start_time": "2024-07-23T02:01:08.298Z"
   },
   {
    "duration": 23,
    "start_time": "2024-07-23T02:01:11.636Z"
   },
   {
    "duration": 22,
    "start_time": "2024-07-23T02:01:25.669Z"
   },
   {
    "duration": 22,
    "start_time": "2024-07-23T02:01:35.625Z"
   },
   {
    "duration": 26,
    "start_time": "2024-07-23T02:07:31.573Z"
   },
   {
    "duration": 28,
    "start_time": "2024-07-23T02:07:38.618Z"
   },
   {
    "duration": 31,
    "start_time": "2024-07-23T02:07:43.170Z"
   },
   {
    "duration": 10,
    "start_time": "2024-07-23T02:08:57.824Z"
   },
   {
    "duration": 10,
    "start_time": "2024-07-23T02:10:17.662Z"
   },
   {
    "duration": 12,
    "start_time": "2024-07-23T02:10:42.071Z"
   },
   {
    "duration": 16,
    "start_time": "2024-07-23T02:12:18.007Z"
   },
   {
    "duration": 14,
    "start_time": "2024-07-23T02:12:28.469Z"
   },
   {
    "duration": 17,
    "start_time": "2024-07-23T02:12:52.794Z"
   },
   {
    "duration": 21,
    "start_time": "2024-07-23T02:36:28.543Z"
   },
   {
    "duration": 12,
    "start_time": "2024-07-23T02:36:56.025Z"
   },
   {
    "duration": 14,
    "start_time": "2024-07-23T02:37:56.210Z"
   },
   {
    "duration": 16,
    "start_time": "2024-07-23T02:39:06.945Z"
   },
   {
    "duration": 10,
    "start_time": "2024-07-23T02:39:30.446Z"
   },
   {
    "duration": 13,
    "start_time": "2024-07-23T02:41:28.190Z"
   },
   {
    "duration": 8,
    "start_time": "2024-07-23T02:41:34.315Z"
   },
   {
    "duration": 9,
    "start_time": "2024-07-23T02:42:26.074Z"
   },
   {
    "duration": 10,
    "start_time": "2024-07-23T02:42:30.187Z"
   },
   {
    "duration": 15,
    "start_time": "2024-07-23T02:42:34.273Z"
   },
   {
    "duration": 23,
    "start_time": "2024-07-23T02:42:39.311Z"
   },
   {
    "duration": 11,
    "start_time": "2024-07-23T02:42:52.330Z"
   },
   {
    "duration": 14,
    "start_time": "2024-07-23T02:48:49.244Z"
   },
   {
    "duration": 6,
    "start_time": "2024-07-23T02:50:05.380Z"
   },
   {
    "duration": 15,
    "start_time": "2024-07-23T02:54:39.370Z"
   },
   {
    "duration": 15,
    "start_time": "2024-07-23T02:56:53.373Z"
   },
   {
    "duration": 12,
    "start_time": "2024-07-23T03:01:38.694Z"
   },
   {
    "duration": 13,
    "start_time": "2024-07-23T03:01:47.049Z"
   },
   {
    "duration": 34,
    "start_time": "2024-07-23T03:01:59.040Z"
   },
   {
    "duration": 13,
    "start_time": "2024-07-23T03:02:23.844Z"
   },
   {
    "duration": 13,
    "start_time": "2024-07-23T03:02:38.946Z"
   },
   {
    "duration": 12,
    "start_time": "2024-07-23T03:03:20.484Z"
   },
   {
    "duration": 19,
    "start_time": "2024-07-23T03:03:23.823Z"
   },
   {
    "duration": 13,
    "start_time": "2024-07-23T03:03:27.312Z"
   },
   {
    "duration": 319,
    "start_time": "2024-07-23T03:06:06.850Z"
   },
   {
    "duration": 7,
    "start_time": "2024-07-23T03:06:18.101Z"
   },
   {
    "duration": 8,
    "start_time": "2024-07-23T03:06:41.166Z"
   },
   {
    "duration": 10,
    "start_time": "2024-07-23T03:06:44.086Z"
   },
   {
    "duration": 8,
    "start_time": "2024-07-23T03:07:12.222Z"
   },
   {
    "duration": 12,
    "start_time": "2024-07-23T03:08:00.542Z"
   },
   {
    "duration": 8,
    "start_time": "2024-07-23T03:08:05.025Z"
   },
   {
    "duration": 31,
    "start_time": "2024-07-23T03:08:08.801Z"
   },
   {
    "duration": 639,
    "start_time": "2024-07-23T03:34:19.003Z"
   },
   {
    "duration": 13,
    "start_time": "2024-07-23T03:35:40.048Z"
   },
   {
    "duration": 3,
    "start_time": "2024-07-23T03:35:46.153Z"
   },
   {
    "duration": 4,
    "start_time": "2024-07-23T03:37:41.273Z"
   },
   {
    "duration": 10,
    "start_time": "2024-07-23T03:37:46.809Z"
   },
   {
    "duration": 7,
    "start_time": "2024-07-23T03:39:10.893Z"
   },
   {
    "duration": 6,
    "start_time": "2024-07-23T03:39:14.659Z"
   },
   {
    "duration": 12,
    "start_time": "2024-07-23T03:39:18.293Z"
   },
   {
    "duration": 449,
    "start_time": "2024-07-23T03:47:51.243Z"
   },
   {
    "duration": 20,
    "start_time": "2024-07-23T03:48:20.166Z"
   },
   {
    "duration": 12,
    "start_time": "2024-07-23T03:48:28.356Z"
   },
   {
    "duration": 565,
    "start_time": "2024-07-23T03:49:19.189Z"
   },
   {
    "duration": 9,
    "start_time": "2024-07-23T03:49:46.018Z"
   },
   {
    "duration": 12,
    "start_time": "2024-07-23T03:51:34.198Z"
   },
   {
    "duration": 19,
    "start_time": "2024-07-23T03:54:09.617Z"
   },
   {
    "duration": 13,
    "start_time": "2024-07-23T03:56:11.251Z"
   },
   {
    "duration": 19,
    "start_time": "2024-07-23T03:57:16.913Z"
   },
   {
    "duration": 12,
    "start_time": "2024-07-23T03:57:26.617Z"
   },
   {
    "duration": 22,
    "start_time": "2024-07-23T04:07:53.886Z"
   },
   {
    "duration": 24,
    "start_time": "2024-07-23T04:09:13.052Z"
   },
   {
    "duration": 22,
    "start_time": "2024-07-23T04:09:18.089Z"
   },
   {
    "duration": 28,
    "start_time": "2024-07-23T04:09:34.750Z"
   },
   {
    "duration": 282,
    "start_time": "2024-07-23T04:10:45.970Z"
   },
   {
    "duration": 233,
    "start_time": "2024-07-23T04:11:43.531Z"
   },
   {
    "duration": 246,
    "start_time": "2024-07-23T04:12:56.423Z"
   },
   {
    "duration": 254,
    "start_time": "2024-07-23T04:15:26.449Z"
   },
   {
    "duration": 270,
    "start_time": "2024-07-23T04:16:27.152Z"
   },
   {
    "duration": 323,
    "start_time": "2024-07-23T04:17:47.238Z"
   },
   {
    "duration": 6,
    "start_time": "2024-07-23T04:19:23.040Z"
   },
   {
    "duration": 265,
    "start_time": "2024-07-23T04:21:36.605Z"
   },
   {
    "duration": 262,
    "start_time": "2024-07-23T04:21:41.540Z"
   },
   {
    "duration": 316,
    "start_time": "2024-07-23T04:21:46.042Z"
   },
   {
    "duration": 335,
    "start_time": "2024-07-23T04:22:10.894Z"
   },
   {
    "duration": 1102,
    "start_time": "2024-07-25T00:46:11.891Z"
   },
   {
    "duration": 813,
    "start_time": "2024-07-25T00:46:12.998Z"
   },
   {
    "duration": 17,
    "start_time": "2024-07-25T00:46:13.814Z"
   },
   {
    "duration": 46,
    "start_time": "2024-07-25T00:46:13.835Z"
   },
   {
    "duration": 311,
    "start_time": "2024-07-25T00:46:13.884Z"
   },
   {
    "duration": 15,
    "start_time": "2024-07-25T00:46:14.198Z"
   },
   {
    "duration": 5,
    "start_time": "2024-07-25T00:46:14.216Z"
   },
   {
    "duration": 33,
    "start_time": "2024-07-25T00:46:14.224Z"
   },
   {
    "duration": 252,
    "start_time": "2024-07-25T00:46:14.260Z"
   },
   {
    "duration": 13,
    "start_time": "2024-07-25T00:46:14.518Z"
   },
   {
    "duration": 25,
    "start_time": "2024-07-25T00:46:14.534Z"
   },
   {
    "duration": 16,
    "start_time": "2024-07-25T00:46:14.562Z"
   },
   {
    "duration": 50,
    "start_time": "2024-07-25T00:46:14.581Z"
   },
   {
    "duration": 275,
    "start_time": "2024-07-25T00:46:14.634Z"
   },
   {
    "duration": 283,
    "start_time": "2024-07-25T00:46:14.911Z"
   },
   {
    "duration": 271,
    "start_time": "2024-07-25T00:46:15.198Z"
   },
   {
    "duration": 240,
    "start_time": "2024-07-25T00:46:15.471Z"
   },
   {
    "duration": 334,
    "start_time": "2024-07-25T00:46:15.714Z"
   },
   {
    "duration": 288,
    "start_time": "2024-07-25T00:46:16.051Z"
   },
   {
    "duration": 512,
    "start_time": "2024-07-25T00:46:16.343Z"
   },
   {
    "duration": 475,
    "start_time": "2024-07-25T00:46:16.857Z"
   },
   {
    "duration": 6,
    "start_time": "2024-07-25T00:46:17.336Z"
   },
   {
    "duration": 244,
    "start_time": "2024-07-25T00:46:17.345Z"
   },
   {
    "duration": 416,
    "start_time": "2024-07-25T00:46:17.593Z"
   },
   {
    "duration": 15,
    "start_time": "2024-07-25T00:46:18.012Z"
   },
   {
    "duration": 283,
    "start_time": "2024-07-25T00:46:18.030Z"
   },
   {
    "duration": 24,
    "start_time": "2024-07-25T00:46:18.316Z"
   },
   {
    "duration": 11,
    "start_time": "2024-07-25T00:46:18.348Z"
   },
   {
    "duration": 15,
    "start_time": "2024-07-25T00:46:18.361Z"
   },
   {
    "duration": 70,
    "start_time": "2024-07-25T00:46:18.379Z"
   },
   {
    "duration": 12,
    "start_time": "2024-07-25T00:46:18.452Z"
   },
   {
    "duration": 21,
    "start_time": "2024-07-25T00:46:18.467Z"
   },
   {
    "duration": 48,
    "start_time": "2024-07-25T00:46:18.490Z"
   },
   {
    "duration": 5,
    "start_time": "2024-07-25T00:46:18.542Z"
   },
   {
    "duration": 284,
    "start_time": "2024-07-25T00:46:18.551Z"
   },
   {
    "duration": 234,
    "start_time": "2024-07-25T00:46:18.837Z"
   },
   {
    "duration": 277,
    "start_time": "2024-07-25T00:46:19.074Z"
   },
   {
    "duration": 257,
    "start_time": "2024-07-25T00:46:19.353Z"
   },
   {
    "duration": 358,
    "start_time": "2024-07-25T00:46:19.614Z"
   }
  ],
  "kernelspec": {
   "display_name": "Python 3 (ipykernel)",
   "language": "python",
   "name": "python3"
  },
  "language_info": {
   "codemirror_mode": {
    "name": "ipython",
    "version": 3
   },
   "file_extension": ".py",
   "mimetype": "text/x-python",
   "name": "python",
   "nbconvert_exporter": "python",
   "pygments_lexer": "ipython3",
   "version": "3.12.3"
  },
  "toc": {
   "base_numbering": 1,
   "nav_menu": {},
   "number_sections": true,
   "sideBar": true,
   "skip_h1_title": true,
   "title_cell": "Table of Contents",
   "title_sidebar": "Contents",
   "toc_cell": false,
   "toc_position": {
    "height": "calc(100% - 180px)",
    "left": "10px",
    "top": "150px",
    "width": "165px"
   },
   "toc_section_display": true,
   "toc_window_display": true
  }
 },
 "nbformat": 4,
 "nbformat_minor": 4
}
